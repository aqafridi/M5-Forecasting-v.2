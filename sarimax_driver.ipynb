{
 "cells": [
  {
   "cell_type": "code",
   "execution_count": 47,
   "metadata": {},
   "outputs": [],
   "source": [
    "import pandas as pd\n",
    "from transformer.DataAggregator import DataAggregator\n",
    "from transformer.Dataformator import DataFormator\n",
    "from transformer.ImputeMean import ImputeMean\n",
    "from transformer.TrainTestSplit import TrainTestSplit\n",
    "import utils\n",
    "import numpy as np\n",
    "import json\n",
    "\n",
    "from statsmodels.tsa.seasonal import seasonal_decompose\n",
    "from statsmodels.graphics.tsaplots import plot_acf, plot_pacf\n",
    "from statsmodels.tsa.stattools import adfuller\n",
    "from statsmodels.tsa.statespace.sarimax import SARIMAX\n",
    "import statsmodels.api as sm\n",
    "import math\n",
    "import statistics\n",
    "\n",
    "from hyperopt import fmin, hp, tpe, Trials,STATUS_OK\n",
    "from sklearn.metrics import mean_absolute_error\n",
    "from sklearn.multioutput import MultiOutputRegressor\n",
    "# from configs.space import space\n",
    "from hyperopt.pyll.base import scope"
   ]
  },
  {
   "cell_type": "markdown",
   "metadata": {},
   "source": [
    "## Data Loading"
   ]
  },
  {
   "cell_type": "code",
   "execution_count": 48,
   "metadata": {},
   "outputs": [],
   "source": [
    "sales = pd.read_csv(\"./data/sales_train_validation.csv\")\n",
    "calender =pd.read_csv(\"./data/calendar.csv\")"
   ]
  },
  {
   "attachments": {},
   "cell_type": "markdown",
   "metadata": {},
   "source": [
    "## Data Transformation"
   ]
  },
  {
   "cell_type": "code",
   "execution_count": 49,
   "metadata": {},
   "outputs": [
    {
     "name": "stderr",
     "output_type": "stream",
     "text": [
      "FutureWarning: The default value of numeric_only in DataFrameGroupBy.sum is deprecated. In a future version, numeric_only will default to False. Either specify numeric_only or select only columns which should be valid for the function.\n"
     ]
    }
   ],
   "source": [
    "data_aggregator = DataAggregator(sales)\n",
    "aggregated_data = data_aggregator.aggregate([\"store_id\",\"dept_id\"],\"sum\")\n",
    "data_formator =DataFormator(aggregated_data,calender)\n",
    "data = data_formator.format_data('store_id','dept_id')\n",
    "data.index.name='date'\n",
    "impute_mean =ImputeMean(data)\n",
    "data = impute_mean.replace_zero_with_mean()\n",
    "tts = TrainTestSplit( data, test_size=0.3, random_state=0,shuffle=False,stratify=None)\n",
    "X_train_, X_test_, y_train_, y_test_ = tts.split_data()\n",
    "y_train_.index.freq,y_test_.index.freq= 'd','d'"
   ]
  },
  {
   "attachments": {},
   "cell_type": "markdown",
   "metadata": {},
   "source": [
    "## Training for best Parameters Model tuning"
   ]
  },
  {
   "attachments": {},
   "cell_type": "markdown",
   "metadata": {},
   "source": [
    "### Model Tuning"
   ]
  },
  {
   "cell_type": "code",
   "execution_count": 50,
   "metadata": {},
   "outputs": [],
   "source": [
    "space = {\n",
    "    'p': hp.choice('p', range(0, 3)),\n",
    "    'd': hp.choice('d', range(0, 3)),\n",
    "    'q': hp.choice('q', range(0, 3)),\n",
    "    'P': hp.choice('P', range(0, 3)),\n",
    "    'D': hp.choice('D', range(0, 3)),\n",
    "    'Q': hp.choice('Q', range(0, 3)),\n",
    "    'seasonal_order': hp.choice('seasonal_order', [(0,0,0,0), (1,0,0,12), (0,1,0,12), (0,0,1,12), (1,1,0,12), (1,0,1,12), (0,1,1,12), (1,1,1,12)])\n",
    "}"
   ]
  },
  {
   "cell_type": "code",
   "execution_count": 51,
   "metadata": {},
   "outputs": [
    {
     "name": "stdout",
     "output_type": "stream",
     "text": [
      "Training .......\n",
      " model_CA_1_FOODS_1 \n",
      "100%|██████████| 3/3 [00:04<00:00,  1.34s/trial, best loss: 81.41000707952641]\n",
      "{'D': 1, 'P': 0, 'Q': 1, 'd': 1, 'p': 1, 'q': 1, 'seasonal_order': 4}\n",
      "Training .......\n",
      " model_CA_1_FOODS_2 \n",
      "  0%|          | 0/3 [00:00<?, ?trial/s, best loss=?]"
     ]
    },
    {
     "name": "stderr",
     "output_type": "stream",
     "text": [
      "UserWarning: Non-stationary starting autoregressive parameters found. Using zeros as starting parameters.\n",
      "\n",
      "UserWarning: Non-invertible starting MA parameters found. Using zeros as starting parameters.\n",
      "\n"
     ]
    },
    {
     "name": "stdout",
     "output_type": "stream",
     "text": [
      " 67%|██████▋   | 2/3 [00:01<00:00,  1.06trial/s, best loss: 100.43647591632218]"
     ]
    },
    {
     "name": "stderr",
     "output_type": "stream",
     "text": [
      "UserWarning: Non-invertible starting seasonal moving average Using zeros as starting parameters.\n",
      "\n"
     ]
    },
    {
     "name": "stdout",
     "output_type": "stream",
     "text": [
      "100%|██████████| 3/3 [00:06<00:00,  2.28s/trial, best loss: 100.43647591632218]\n",
      "{'D': 0, 'P': 0, 'Q': 1, 'd': 1, 'p': 2, 'q': 1, 'seasonal_order': 2}\n",
      "Training .......\n",
      " model_CA_1_FOODS_3 \n",
      "100%|██████████| 3/3 [00:12<00:00,  4.30s/trial, best loss: 388.54290009493576]\n",
      "{'D': 1, 'P': 1, 'Q': 2, 'd': 0, 'p': 1, 'q': 1, 'seasonal_order': 7}\n",
      "Training .......\n",
      " model_CA_1_HOBBIES_1 \n",
      " 67%|██████▋   | 2/3 [00:10<00:05,  5.92s/trial, best loss: 93.35256693585463] "
     ]
    },
    {
     "name": "stderr",
     "output_type": "stream",
     "text": [
      "UserWarning: Non-invertible starting MA parameters found. Using zeros as starting parameters.\n",
      "\n"
     ]
    },
    {
     "name": "stdout",
     "output_type": "stream",
     "text": [
      "100%|██████████| 3/3 [00:10<00:00,  3.67s/trial, best loss: 85.41536936279779]\n",
      "{'D': 0, 'P': 0, 'Q': 0, 'd': 1, 'p': 2, 'q': 1, 'seasonal_order': 7}\n",
      "Training .......\n",
      " model_CA_1_HOBBIES_2 \n",
      "100%|██████████| 3/3 [00:04<00:00,  1.44s/trial, best loss: 17.967413493068793]\n",
      "{'D': 0, 'P': 1, 'Q': 1, 'd': 0, 'p': 1, 'q': 1, 'seasonal_order': 1}\n",
      "Training .......\n",
      " model_CA_1_HOUSEHOLD_1 \n",
      "  0%|          | 0/3 [00:00<?, ?trial/s, best loss=?]"
     ]
    },
    {
     "name": "stderr",
     "output_type": "stream",
     "text": [
      "UserWarning: Non-stationary starting autoregressive parameters found. Using zeros as starting parameters.\n",
      "\n",
      "UserWarning: Non-invertible starting MA parameters found. Using zeros as starting parameters.\n",
      "\n",
      "ConvergenceWarning: Maximum Likelihood optimization failed to converge. Check mle_retvals\n",
      "\n"
     ]
    },
    {
     "name": "stdout",
     "output_type": "stream",
     "text": [
      " 33%|███▎      | 1/3 [00:13<00:27, 13.57s/trial, best loss: 155.06694181121358]"
     ]
    },
    {
     "name": "stderr",
     "output_type": "stream",
     "text": [
      "UserWarning: Non-invertible starting MA parameters found. Using zeros as starting parameters.\n",
      "\n",
      "ConvergenceWarning: Maximum Likelihood optimization failed to converge. Check mle_retvals\n",
      "\n"
     ]
    },
    {
     "name": "stdout",
     "output_type": "stream",
     "text": [
      "100%|██████████| 3/3 [00:26<00:00,  8.76s/trial, best loss: 155.06694181121358]\n",
      "{'D': 0, 'P': 2, 'Q': 2, 'd': 0, 'p': 2, 'q': 1, 'seasonal_order': 3}\n",
      "Training .......\n",
      " model_CA_1_HOUSEHOLD_2 \n",
      "  0%|          | 0/3 [00:00<?, ?trial/s, best loss=?]"
     ]
    },
    {
     "name": "stderr",
     "output_type": "stream",
     "text": [
      "UserWarning: Non-stationary starting autoregressive parameters found. Using zeros as starting parameters.\n",
      "\n",
      "UserWarning: Non-invertible starting MA parameters found. Using zeros as starting parameters.\n",
      "\n"
     ]
    },
    {
     "name": "stdout",
     "output_type": "stream",
     "text": [
      " 67%|██████▋   | 2/3 [00:11<00:05,  5.04s/trial, best loss: 31.287412179467808]"
     ]
    },
    {
     "name": "stderr",
     "output_type": "stream",
     "text": [
      "UserWarning: Non-stationary starting autoregressive parameters found. Using zeros as starting parameters.\n",
      "\n",
      "UserWarning: Non-invertible starting MA parameters found. Using zeros as starting parameters.\n",
      "\n",
      "ConvergenceWarning: Maximum Likelihood optimization failed to converge. Check mle_retvals\n",
      "\n"
     ]
    },
    {
     "name": "stdout",
     "output_type": "stream",
     "text": [
      "100%|██████████| 3/3 [00:18<00:00,  6.01s/trial, best loss: 31.287412179467808]\n",
      "{'D': 0, 'P': 2, 'Q': 2, 'd': 2, 'p': 2, 'q': 2, 'seasonal_order': 3}\n",
      "Training .......\n",
      " model_CA_2_FOODS_1 \n",
      "100%|██████████| 3/3 [00:21<00:00,  7.09s/trial, best loss: 92.00910614366775]\n",
      "{'D': 0, 'P': 0, 'Q': 0, 'd': 1, 'p': 0, 'q': 2, 'seasonal_order': 5}\n",
      "Training .......\n",
      " model_CA_2_FOODS_2 \n",
      "100%|██████████| 3/3 [00:49<00:00, 16.47s/trial, best loss: 199.22979516242663]\n",
      "{'D': 1, 'P': 2, 'Q': 1, 'd': 1, 'p': 0, 'q': 1, 'seasonal_order': 5}\n",
      "Training .......\n",
      " model_CA_2_FOODS_3 \n",
      "  0%|          | 0/3 [00:00<?, ?trial/s, best loss=?]"
     ]
    },
    {
     "name": "stderr",
     "output_type": "stream",
     "text": [
      "UserWarning: Non-invertible starting MA parameters found. Using zeros as starting parameters.\n",
      "\n"
     ]
    },
    {
     "name": "stdout",
     "output_type": "stream",
     "text": [
      " 33%|███▎      | 1/3 [00:05<00:11,  5.90s/trial, best loss: 417.73020740117965]"
     ]
    },
    {
     "name": "stderr",
     "output_type": "stream",
     "text": [
      "UserWarning: Non-invertible starting MA parameters found. Using zeros as starting parameters.\n",
      "\n"
     ]
    },
    {
     "name": "stdout",
     "output_type": "stream",
     "text": [
      " 67%|██████▋   | 2/3 [00:08<00:03,  3.91s/trial, best loss: 417.73020740117965]"
     ]
    },
    {
     "name": "stderr",
     "output_type": "stream",
     "text": [
      "UserWarning: Non-invertible starting MA parameters found. Using zeros as starting parameters.\n",
      "\n"
     ]
    },
    {
     "name": "stdout",
     "output_type": "stream",
     "text": [
      "100%|██████████| 3/3 [00:12<00:00,  4.04s/trial, best loss: 404.3660492486683] \n",
      "{'D': 1, 'P': 2, 'Q': 0, 'd': 1, 'p': 0, 'q': 2, 'seasonal_order': 4}\n",
      "Training .......\n",
      " model_CA_2_HOBBIES_1 \n",
      "100%|██████████| 3/3 [00:32<00:00, 10.82s/trial, best loss: 137.36472286741636]\n",
      "{'D': 2, 'P': 1, 'Q': 1, 'd': 0, 'p': 0, 'q': 0, 'seasonal_order': 4}\n",
      "Training .......\n",
      " model_CA_2_HOBBIES_2 \n",
      "  0%|          | 0/3 [00:00<?, ?trial/s, best loss=?]"
     ]
    },
    {
     "name": "stderr",
     "output_type": "stream",
     "text": [
      "ConvergenceWarning: Maximum Likelihood optimization failed to converge. Check mle_retvals\n",
      "\n"
     ]
    },
    {
     "name": "stdout",
     "output_type": "stream",
     "text": [
      "100%|██████████| 3/3 [00:57<00:00, 19.08s/trial, best loss: 13.714838041571845]\n",
      "{'D': 1, 'P': 2, 'Q': 2, 'd': 1, 'p': 2, 'q': 0, 'seasonal_order': 4}\n",
      "Training .......\n",
      " model_CA_2_HOUSEHOLD_1 \n",
      " 33%|███▎      | 1/3 [00:01<00:02,  1.13s/trial, best loss: 611.9126192456831]"
     ]
    },
    {
     "name": "stderr",
     "output_type": "stream",
     "text": [
      "ConvergenceWarning: Maximum Likelihood optimization failed to converge. Check mle_retvals\n",
      "\n"
     ]
    },
    {
     "name": "stdout",
     "output_type": "stream",
     "text": [
      "100%|██████████| 3/3 [00:16<00:00,  5.54s/trial, best loss: 197.51795733934708]\n",
      "{'D': 0, 'P': 2, 'Q': 2, 'd': 0, 'p': 0, 'q': 0, 'seasonal_order': 1}\n",
      "Training .......\n",
      " model_CA_2_HOUSEHOLD_2 \n",
      " 33%|███▎      | 1/3 [00:01<00:03,  1.77s/trial, best loss: 114396.67484652235]"
     ]
    },
    {
     "name": "stderr",
     "output_type": "stream",
     "text": [
      "UserWarning: Non-invertible starting MA parameters found. Using zeros as starting parameters.\n",
      "\n",
      "UserWarning: Non-invertible starting seasonal moving average Using zeros as starting parameters.\n",
      "\n"
     ]
    },
    {
     "name": "stdout",
     "output_type": "stream",
     "text": [
      "100%|██████████| 3/3 [01:03<00:00, 21.09s/trial, best loss: 108.1626448556018] \n",
      "{'D': 2, 'P': 0, 'Q': 2, 'd': 1, 'p': 2, 'q': 2, 'seasonal_order': 1}\n",
      "Training .......\n",
      " model_CA_3_FOODS_1 \n",
      "  0%|          | 0/3 [00:00<?, ?trial/s, best loss=?]"
     ]
    },
    {
     "name": "stderr",
     "output_type": "stream",
     "text": [
      "UserWarning: Non-stationary starting autoregressive parameters found. Using zeros as starting parameters.\n",
      "\n",
      "UserWarning: Non-invertible starting MA parameters found. Using zeros as starting parameters.\n",
      "\n"
     ]
    },
    {
     "name": "stdout",
     "output_type": "stream",
     "text": [
      "100%|██████████| 3/3 [00:13<00:00,  4.51s/trial, best loss: 84.5268763097958] \n",
      "{'D': 1, 'P': 2, 'Q': 1, 'd': 1, 'p': 2, 'q': 0, 'seasonal_order': 2}\n",
      "Training .......\n",
      " model_CA_3_FOODS_2 \n",
      "  0%|          | 0/3 [00:00<?, ?trial/s, best loss=?]"
     ]
    },
    {
     "name": "stderr",
     "output_type": "stream",
     "text": [
      "UserWarning: Non-invertible starting MA parameters found. Using zeros as starting parameters.\n",
      "\n"
     ]
    },
    {
     "name": "stdout",
     "output_type": "stream",
     "text": [
      "100%|██████████| 3/3 [00:47<00:00, 15.85s/trial, best loss: 569.0576298860477]\n",
      "{'D': 0, 'P': 0, 'Q': 0, 'd': 0, 'p': 1, 'q': 1, 'seasonal_order': 0}\n",
      "Training .......\n",
      " model_CA_3_FOODS_3 \n",
      " 33%|███▎      | 1/3 [00:01<00:03,  1.77s/trial, best loss: 53569.76587476833]"
     ]
    },
    {
     "name": "stderr",
     "output_type": "stream",
     "text": [
      "UserWarning: Non-invertible starting MA parameters found. Using zeros as starting parameters.\n",
      "\n"
     ]
    },
    {
     "name": "stdout",
     "output_type": "stream",
     "text": [
      "100%|██████████| 3/3 [00:10<00:00,  3.43s/trial, best loss: 729.7581440614456]\n",
      "{'D': 1, 'P': 0, 'Q': 2, 'd': 0, 'p': 0, 'q': 1, 'seasonal_order': 3}\n",
      "Training .......\n",
      " model_CA_3_HOBBIES_1 \n",
      "  0%|          | 0/3 [00:00<?, ?trial/s, best loss=?]"
     ]
    },
    {
     "name": "stderr",
     "output_type": "stream",
     "text": [
      "UserWarning: Non-invertible starting seasonal moving average Using zeros as starting parameters.\n",
      "\n"
     ]
    },
    {
     "name": "stdout",
     "output_type": "stream",
     "text": [
      "100%|██████████| 3/3 [00:14<00:00,  4.81s/trial, best loss: 84.32894734691487] \n",
      "{'D': 1, 'P': 1, 'Q': 2, 'd': 1, 'p': 1, 'q': 2, 'seasonal_order': 7}\n",
      "Training .......\n",
      " model_CA_3_HOBBIES_2 \n",
      " 33%|███▎      | 1/3 [00:00<00:00,  2.07trial/s, best loss: 178.18700821751798]"
     ]
    },
    {
     "name": "stderr",
     "output_type": "stream",
     "text": [
      "UserWarning: Non-invertible starting MA parameters found. Using zeros as starting parameters.\n",
      "\n"
     ]
    },
    {
     "name": "stdout",
     "output_type": "stream",
     "text": [
      " 67%|██████▋   | 2/3 [00:04<00:02,  2.35s/trial, best loss: 18.275915631356455]"
     ]
    },
    {
     "name": "stderr",
     "output_type": "stream",
     "text": [
      "ConvergenceWarning: Maximum Likelihood optimization failed to converge. Check mle_retvals\n",
      "\n",
      "UserWarning: Non-invertible starting MA parameters found. Using zeros as starting parameters.\n",
      "\n"
     ]
    },
    {
     "name": "stdout",
     "output_type": "stream",
     "text": [
      "100%|██████████| 3/3 [00:04<00:00,  1.56s/trial, best loss: 18.275915631356455]\n",
      "{'D': 0, 'P': 0, 'Q': 1, 'd': 2, 'p': 2, 'q': 2, 'seasonal_order': 5}\n",
      "Training .......\n",
      " model_CA_3_HOUSEHOLD_1 \n",
      "  0%|          | 0/3 [00:00<?, ?trial/s, best loss=?]"
     ]
    },
    {
     "name": "stderr",
     "output_type": "stream",
     "text": [
      "UserWarning: Non-stationary starting autoregressive parameters found. Using zeros as starting parameters.\n",
      "\n",
      "UserWarning: Non-invertible starting MA parameters found. Using zeros as starting parameters.\n",
      "\n"
     ]
    },
    {
     "name": "stdout",
     "output_type": "stream",
     "text": [
      "100%|██████████| 3/3 [00:26<00:00,  8.68s/trial, best loss: 241.1396989717013]\n",
      "{'D': 1, 'P': 2, 'Q': 1, 'd': 2, 'p': 2, 'q': 2, 'seasonal_order': 0}\n",
      "Training .......\n",
      " model_CA_3_HOUSEHOLD_2 \n",
      "  0%|          | 0/3 [00:00<?, ?trial/s, best loss=?]"
     ]
    },
    {
     "name": "stderr",
     "output_type": "stream",
     "text": [
      "UserWarning: Non-stationary starting autoregressive parameters found. Using zeros as starting parameters.\n",
      "\n",
      "UserWarning: Non-invertible starting MA parameters found. Using zeros as starting parameters.\n",
      "\n"
     ]
    },
    {
     "name": "stdout",
     "output_type": "stream",
     "text": [
      " 67%|██████▋   | 2/3 [00:11<00:05,  5.23s/trial, best loss: 57.80606968292145]"
     ]
    },
    {
     "name": "stderr",
     "output_type": "stream",
     "text": [
      "UserWarning: Non-invertible starting MA parameters found. Using zeros as starting parameters.\n",
      "\n"
     ]
    },
    {
     "name": "stdout",
     "output_type": "stream",
     "text": [
      "100%|██████████| 3/3 [00:15<00:00,  5.06s/trial, best loss: 57.80606968292145]\n",
      "{'D': 1, 'P': 0, 'Q': 2, 'd': 0, 'p': 0, 'q': 0, 'seasonal_order': 4}\n",
      "Training .......\n",
      " model_CA_4_FOODS_1 \n",
      " 67%|██████▋   | 2/3 [00:05<00:02,  2.89s/trial, best loss: 38.54436227967015]"
     ]
    },
    {
     "name": "stderr",
     "output_type": "stream",
     "text": [
      "UserWarning: Non-invertible starting seasonal moving average Using zeros as starting parameters.\n",
      "\n"
     ]
    },
    {
     "name": "stdout",
     "output_type": "stream",
     "text": [
      "100%|██████████| 3/3 [01:20<00:00, 26.90s/trial, best loss: 38.54436227967015]\n",
      "{'D': 0, 'P': 2, 'Q': 2, 'd': 0, 'p': 0, 'q': 0, 'seasonal_order': 0}\n",
      "Training .......\n",
      " model_CA_4_FOODS_2 \n",
      " 67%|██████▋   | 2/3 [00:05<00:02,  2.66s/trial, best loss: 56.18299381322581]"
     ]
    },
    {
     "name": "stderr",
     "output_type": "stream",
     "text": [
      "UserWarning: Non-invertible starting MA parameters found. Using zeros as starting parameters.\n",
      "\n"
     ]
    },
    {
     "name": "stdout",
     "output_type": "stream",
     "text": [
      "100%|██████████| 3/3 [00:06<00:00,  2.17s/trial, best loss: 56.18299381322581]\n",
      "{'D': 1, 'P': 2, 'Q': 2, 'd': 1, 'p': 2, 'q': 0, 'seasonal_order': 2}\n",
      "Training .......\n",
      " model_CA_4_FOODS_3 \n",
      " 67%|██████▋   | 2/3 [00:01<00:00,  1.71trial/s, best loss: 1024.9375727289594]"
     ]
    },
    {
     "name": "stderr",
     "output_type": "stream",
     "text": [
      "UserWarning: Non-invertible starting MA parameters found. Using zeros as starting parameters.\n",
      "\n",
      "UserWarning: Non-invertible starting seasonal moving average Using zeros as starting parameters.\n",
      "\n"
     ]
    },
    {
     "name": "stdout",
     "output_type": "stream",
     "text": [
      "100%|██████████| 3/3 [00:09<00:00,  3.28s/trial, best loss: 1024.9375727289594]\n",
      "{'D': 0, 'P': 0, 'Q': 1, 'd': 0, 'p': 0, 'q': 0, 'seasonal_order': 7}\n",
      "Training .......\n",
      " model_CA_4_HOBBIES_1 \n",
      "  0%|          | 0/3 [00:00<?, ?trial/s, best loss=?]"
     ]
    },
    {
     "name": "stderr",
     "output_type": "stream",
     "text": [
      "UserWarning: Non-stationary starting autoregressive parameters found. Using zeros as starting parameters.\n",
      "\n",
      "UserWarning: Non-invertible starting MA parameters found. Using zeros as starting parameters.\n",
      "\n"
     ]
    },
    {
     "name": "stdout",
     "output_type": "stream",
     "text": [
      " 67%|██████▋   | 2/3 [00:10<00:04,  4.80s/trial, best loss: 107.53792694198947]"
     ]
    },
    {
     "name": "stderr",
     "output_type": "stream",
     "text": [
      "UserWarning: Non-stationary starting autoregressive parameters found. Using zeros as starting parameters.\n",
      "\n",
      "UserWarning: Non-invertible starting MA parameters found. Using zeros as starting parameters.\n",
      "\n",
      "ConvergenceWarning: Maximum Likelihood optimization failed to converge. Check mle_retvals\n",
      "\n"
     ]
    },
    {
     "name": "stdout",
     "output_type": "stream",
     "text": [
      "100%|██████████| 3/3 [00:25<00:00,  8.34s/trial, best loss: 73.2236185424047]  \n",
      "{'D': 1, 'P': 2, 'Q': 2, 'd': 1, 'p': 2, 'q': 2, 'seasonal_order': 4}\n",
      "Training .......\n",
      " model_CA_4_HOBBIES_2 \n",
      "  0%|          | 0/3 [00:00<?, ?trial/s, best loss=?]"
     ]
    },
    {
     "name": "stderr",
     "output_type": "stream",
     "text": [
      "UserWarning: Non-invertible starting MA parameters found. Using zeros as starting parameters.\n",
      "\n"
     ]
    },
    {
     "name": "stdout",
     "output_type": "stream",
     "text": [
      " 67%|██████▋   | 2/3 [00:03<00:01,  1.42s/trial, best loss: 6.861029164580488]"
     ]
    },
    {
     "name": "stderr",
     "output_type": "stream",
     "text": [
      "UserWarning: Non-invertible starting MA parameters found. Using zeros as starting parameters.\n",
      "\n"
     ]
    },
    {
     "name": "stdout",
     "output_type": "stream",
     "text": [
      "100%|██████████| 3/3 [00:12<00:00,  4.01s/trial, best loss: 6.861029164580488]\n",
      "{'D': 0, 'P': 2, 'Q': 1, 'd': 2, 'p': 0, 'q': 1, 'seasonal_order': 1}\n",
      "Training .......\n",
      " model_CA_4_HOUSEHOLD_1 \n",
      "  0%|          | 0/3 [00:00<?, ?trial/s, best loss=?]"
     ]
    },
    {
     "name": "stderr",
     "output_type": "stream",
     "text": [
      "ConvergenceWarning: Maximum Likelihood optimization failed to converge. Check mle_retvals\n",
      "\n"
     ]
    },
    {
     "name": "stdout",
     "output_type": "stream",
     "text": [
      " 33%|███▎      | 1/3 [00:06<00:12,  6.07s/trial, best loss: 53.23826704085888]"
     ]
    },
    {
     "name": "stderr",
     "output_type": "stream",
     "text": [
      "UserWarning: Non-stationary starting autoregressive parameters found. Using zeros as starting parameters.\n",
      "\n",
      "UserWarning: Non-invertible starting MA parameters found. Using zeros as starting parameters.\n",
      "\n"
     ]
    },
    {
     "name": "stdout",
     "output_type": "stream",
     "text": [
      "100%|██████████| 3/3 [00:10<00:00,  3.60s/trial, best loss: 51.32648358215083]\n",
      "{'D': 0, 'P': 1, 'Q': 2, 'd': 1, 'p': 2, 'q': 1, 'seasonal_order': 0}\n",
      "Training .......\n",
      " model_CA_4_HOUSEHOLD_2 \n",
      "  0%|          | 0/3 [00:00<?, ?trial/s, best loss=?]"
     ]
    },
    {
     "name": "stderr",
     "output_type": "stream",
     "text": [
      "UserWarning: Non-stationary starting autoregressive parameters found. Using zeros as starting parameters.\n",
      "\n"
     ]
    },
    {
     "name": "stdout",
     "output_type": "stream",
     "text": [
      "100%|██████████| 3/3 [00:08<00:00,  2.92s/trial, best loss: 18.423695392199967]\n",
      "{'D': 0, 'P': 1, 'Q': 0, 'd': 1, 'p': 0, 'q': 1, 'seasonal_order': 6}\n",
      "Training .......\n",
      " model_TX_1_FOODS_1 \n",
      "100%|██████████| 3/3 [00:06<00:00,  2.27s/trial, best loss: 46.40424315315675]\n",
      "{'D': 0, 'P': 1, 'Q': 1, 'd': 2, 'p': 2, 'q': 1, 'seasonal_order': 1}\n",
      "Training .......\n",
      " model_TX_1_FOODS_2 \n",
      "100%|██████████| 3/3 [00:05<00:00,  1.97s/trial, best loss: 76.77402580279472]\n",
      "{'D': 2, 'P': 1, 'Q': 1, 'd': 0, 'p': 1, 'q': 1, 'seasonal_order': 3}\n",
      "Training .......\n",
      " model_TX_1_FOODS_3 \n",
      "100%|██████████| 3/3 [00:13<00:00,  4.60s/trial, best loss: 246.51483112390122]\n",
      "{'D': 1, 'P': 1, 'Q': 2, 'd': 0, 'p': 1, 'q': 2, 'seasonal_order': 7}\n",
      "Training .......\n",
      " model_TX_1_HOBBIES_1 \n",
      "100%|██████████| 3/3 [00:03<00:00,  1.28s/trial, best loss: 60.64309275286486]\n",
      "{'D': 1, 'P': 0, 'Q': 2, 'd': 0, 'p': 1, 'q': 0, 'seasonal_order': 1}\n",
      "Training .......\n",
      " model_TX_1_HOBBIES_2 \n",
      "100%|██████████| 3/3 [00:04<00:00,  1.48s/trial, best loss: 4972.234260395516] \n",
      "{'D': 2, 'P': 2, 'Q': 0, 'd': 1, 'p': 1, 'q': 0, 'seasonal_order': 4}\n",
      "Training .......\n",
      " model_TX_1_HOUSEHOLD_1 \n",
      " 33%|███▎      | 1/3 [00:25<00:51, 25.75s/trial, best loss: 56379.90323861044]"
     ]
    },
    {
     "name": "stderr",
     "output_type": "stream",
     "text": [
      "UserWarning: Non-stationary starting autoregressive parameters found. Using zeros as starting parameters.\n",
      "\n",
      "UserWarning: Non-invertible starting MA parameters found. Using zeros as starting parameters.\n",
      "\n"
     ]
    },
    {
     "name": "stdout",
     "output_type": "stream",
     "text": [
      " 67%|██████▋   | 2/3 [00:28<00:11, 11.95s/trial, best loss: 144.7500910425385]"
     ]
    },
    {
     "name": "stderr",
     "output_type": "stream",
     "text": [
      "UserWarning: Non-stationary starting autoregressive parameters found. Using zeros as starting parameters.\n",
      "\n",
      "UserWarning: Non-invertible starting MA parameters found. Using zeros as starting parameters.\n",
      "\n"
     ]
    },
    {
     "name": "stdout",
     "output_type": "stream",
     "text": [
      "100%|██████████| 3/3 [00:29<00:00,  9.75s/trial, best loss: 144.7500910425385]\n",
      "{'D': 0, 'P': 1, 'Q': 0, 'd': 1, 'p': 2, 'q': 2, 'seasonal_order': 2}\n",
      "Training .......\n",
      " model_TX_1_HOUSEHOLD_2 \n",
      " 33%|███▎      | 1/3 [00:03<00:07,  3.62s/trial, best loss: 31.593959989915458]"
     ]
    },
    {
     "name": "stderr",
     "output_type": "stream",
     "text": [
      "UserWarning: Non-stationary starting autoregressive parameters found. Using zeros as starting parameters.\n",
      "\n",
      "UserWarning: Non-invertible starting MA parameters found. Using zeros as starting parameters.\n",
      "\n",
      "ConvergenceWarning: Maximum Likelihood optimization failed to converge. Check mle_retvals\n",
      "\n"
     ]
    },
    {
     "name": "stdout",
     "output_type": "stream",
     "text": [
      "100%|██████████| 3/3 [00:22<00:00,  7.47s/trial, best loss: 27.60100194226559] \n",
      "{'D': 0, 'P': 2, 'Q': 1, 'd': 2, 'p': 2, 'q': 2, 'seasonal_order': 0}\n",
      "Training .......\n",
      " model_TX_2_FOODS_1 \n",
      " 67%|██████▋   | 2/3 [00:01<00:00,  1.52trial/s, best loss: 216.59777850703574]"
     ]
    },
    {
     "name": "stderr",
     "output_type": "stream",
     "text": [
      "UserWarning: Non-invertible starting MA parameters found. Using zeros as starting parameters.\n",
      "\n"
     ]
    },
    {
     "name": "stdout",
     "output_type": "stream",
     "text": [
      "100%|██████████| 3/3 [00:04<00:00,  1.44s/trial, best loss: 46.251752345085826]\n",
      "{'D': 0, 'P': 0, 'Q': 1, 'd': 1, 'p': 2, 'q': 1, 'seasonal_order': 2}\n",
      "Training .......\n",
      " model_TX_2_FOODS_2 \n",
      " 33%|███▎      | 1/3 [00:18<00:36, 18.20s/trial, best loss: 72.41640754133351]"
     ]
    },
    {
     "name": "stderr",
     "output_type": "stream",
     "text": [
      "UserWarning: Non-invertible starting seasonal moving average Using zeros as starting parameters.\n",
      "\n",
      "ConvergenceWarning: Maximum Likelihood optimization failed to converge. Check mle_retvals\n",
      "\n"
     ]
    },
    {
     "name": "stdout",
     "output_type": "stream",
     "text": [
      "100%|██████████| 3/3 [00:46<00:00, 15.49s/trial, best loss: 72.41640754133351]\n",
      "{'D': 1, 'P': 0, 'Q': 2, 'd': 2, 'p': 0, 'q': 2, 'seasonal_order': 2}\n",
      "Training .......\n",
      " model_TX_2_FOODS_3 \n",
      " 67%|██████▋   | 2/3 [00:02<00:01,  1.10s/trial, best loss: 19102.680595435722]"
     ]
    },
    {
     "name": "stderr",
     "output_type": "stream",
     "text": [
      "UserWarning: Non-invertible starting MA parameters found. Using zeros as starting parameters.\n",
      "\n",
      "UserWarning: Non-invertible starting seasonal moving average Using zeros as starting parameters.\n",
      "\n"
     ]
    },
    {
     "name": "stdout",
     "output_type": "stream",
     "text": [
      "100%|██████████| 3/3 [00:30<00:00, 10.02s/trial, best loss: 644.4133397504495] \n",
      "{'D': 2, 'P': 1, 'Q': 2, 'd': 2, 'p': 0, 'q': 2, 'seasonal_order': 5}\n",
      "Training .......\n",
      " model_TX_2_HOBBIES_1 \n",
      " 67%|██████▋   | 2/3 [00:01<00:00,  1.45trial/s, best loss: 10875.66513373814]"
     ]
    },
    {
     "name": "stderr",
     "output_type": "stream",
     "text": [
      "UserWarning: Non-invertible starting MA parameters found. Using zeros as starting parameters.\n",
      "\n"
     ]
    },
    {
     "name": "stdout",
     "output_type": "stream",
     "text": [
      "100%|██████████| 3/3 [00:04<00:00,  1.52s/trial, best loss: 74.56523093114225]\n",
      "{'D': 1, 'P': 2, 'Q': 0, 'd': 1, 'p': 0, 'q': 2, 'seasonal_order': 2}\n",
      "Training .......\n",
      " model_TX_2_HOBBIES_2 \n",
      " 33%|███▎      | 1/3 [00:02<00:04,  2.42s/trial, best loss: 8685.95526187333]"
     ]
    },
    {
     "name": "stderr",
     "output_type": "stream",
     "text": [
      "ConvergenceWarning: Maximum Likelihood optimization failed to converge. Check mle_retvals\n",
      "\n"
     ]
    },
    {
     "name": "stdout",
     "output_type": "stream",
     "text": [
      "100%|██████████| 3/3 [00:09<00:00,  3.30s/trial, best loss: 15.68716881586845]\n",
      "{'D': 0, 'P': 0, 'Q': 2, 'd': 1, 'p': 2, 'q': 2, 'seasonal_order': 1}\n",
      "Training .......\n",
      " model_TX_2_HOUSEHOLD_1 \n",
      "  0%|          | 0/3 [00:00<?, ?trial/s, best loss=?]"
     ]
    },
    {
     "name": "stderr",
     "output_type": "stream",
     "text": [
      "UserWarning: Non-stationary starting autoregressive parameters found. Using zeros as starting parameters.\n",
      "\n",
      "UserWarning: Non-invertible starting MA parameters found. Using zeros as starting parameters.\n",
      "\n"
     ]
    },
    {
     "name": "stdout",
     "output_type": "stream",
     "text": [
      " 33%|███▎      | 1/3 [00:03<00:07,  3.61s/trial, best loss: 137.1614275178228]"
     ]
    },
    {
     "name": "stderr",
     "output_type": "stream",
     "text": [
      "UserWarning: Non-invertible starting MA parameters found. Using zeros as starting parameters.\n",
      "\n"
     ]
    },
    {
     "name": "stdout",
     "output_type": "stream",
     "text": [
      " 67%|██████▋   | 2/3 [00:27<00:15, 15.79s/trial, best loss: 119.48967202603649]"
     ]
    },
    {
     "name": "stderr",
     "output_type": "stream",
     "text": [
      "ConvergenceWarning: Maximum Likelihood optimization failed to converge. Check mle_retvals\n",
      "\n"
     ]
    },
    {
     "name": "stdout",
     "output_type": "stream",
     "text": [
      "100%|██████████| 3/3 [01:12<00:00, 24.03s/trial, best loss: 119.48967202603649]\n",
      "{'D': 1, 'P': 2, 'Q': 2, 'd': 1, 'p': 1, 'q': 2, 'seasonal_order': 0}\n",
      "Training .......\n",
      " model_TX_2_HOUSEHOLD_2 \n",
      "  0%|          | 0/3 [00:00<?, ?trial/s, best loss=?]"
     ]
    },
    {
     "name": "stderr",
     "output_type": "stream",
     "text": [
      "UserWarning: Non-stationary starting autoregressive parameters found. Using zeros as starting parameters.\n",
      "\n",
      "UserWarning: Non-invertible starting MA parameters found. Using zeros as starting parameters.\n",
      "\n",
      "ConvergenceWarning: Maximum Likelihood optimization failed to converge. Check mle_retvals\n",
      "\n"
     ]
    },
    {
     "name": "stdout",
     "output_type": "stream",
     "text": [
      "100%|██████████| 3/3 [00:31<00:00, 10.45s/trial, best loss: 38.92572883579538]\n",
      "{'D': 1, 'P': 1, 'Q': 1, 'd': 0, 'p': 0, 'q': 2, 'seasonal_order': 2}\n",
      "Training .......\n",
      " model_TX_3_FOODS_1 \n",
      "100%|██████████| 3/3 [00:29<00:00,  9.87s/trial, best loss: 46.22957233652973]\n",
      "{'D': 2, 'P': 0, 'Q': 2, 'd': 0, 'p': 0, 'q': 2, 'seasonal_order': 0}\n",
      "Training .......\n",
      " model_TX_3_FOODS_2 \n",
      " 33%|███▎      | 1/3 [00:00<00:00,  3.04trial/s, best loss: 452.58128815980433]"
     ]
    },
    {
     "name": "stderr",
     "output_type": "stream",
     "text": [
      "ConvergenceWarning: Maximum Likelihood optimization failed to converge. Check mle_retvals\n",
      "\n"
     ]
    },
    {
     "name": "stdout",
     "output_type": "stream",
     "text": [
      "100%|██████████| 3/3 [00:12<00:00,  4.16s/trial, best loss: 87.95196159314193] \n",
      "{'D': 0, 'P': 1, 'Q': 2, 'd': 1, 'p': 2, 'q': 0, 'seasonal_order': 2}\n",
      "Training .......\n",
      " model_TX_3_FOODS_3 \n",
      "  0%|          | 0/3 [00:00<?, ?trial/s, best loss=?]"
     ]
    },
    {
     "name": "stderr",
     "output_type": "stream",
     "text": [
      "UserWarning: Non-stationary starting autoregressive parameters found. Using zeros as starting parameters.\n",
      "\n",
      "UserWarning: Non-invertible starting MA parameters found. Using zeros as starting parameters.\n",
      "\n"
     ]
    },
    {
     "name": "stdout",
     "output_type": "stream",
     "text": [
      "100%|██████████| 3/3 [00:38<00:00, 12.94s/trial, best loss: 242.04065990361966]\n",
      "{'D': 1, 'P': 2, 'Q': 1, 'd': 0, 'p': 0, 'q': 2, 'seasonal_order': 5}\n",
      "Training .......\n",
      " model_TX_3_HOBBIES_1 \n",
      " 33%|███▎      | 1/3 [00:01<00:03,  1.53s/trial, best loss: 91.19457016187539]"
     ]
    },
    {
     "name": "stderr",
     "output_type": "stream",
     "text": [
      "UserWarning: Non-invertible starting MA parameters found. Using zeros as starting parameters.\n",
      "\n"
     ]
    },
    {
     "name": "stdout",
     "output_type": "stream",
     "text": [
      "100%|██████████| 3/3 [00:13<00:00,  4.39s/trial, best loss: 81.51566451063154]\n",
      "{'D': 0, 'P': 2, 'Q': 2, 'd': 2, 'p': 0, 'q': 2, 'seasonal_order': 2}\n",
      "Training .......\n",
      " model_TX_3_HOBBIES_2 \n",
      "100%|██████████| 3/3 [00:16<00:00,  5.44s/trial, best loss: 16.409420815625875]\n",
      "{'D': 0, 'P': 2, 'Q': 0, 'd': 1, 'p': 2, 'q': 2, 'seasonal_order': 4}\n",
      "Training .......\n",
      " model_TX_3_HOUSEHOLD_1 \n",
      " 33%|███▎      | 1/3 [00:04<00:08,  4.41s/trial, best loss: 170.8995553912203]"
     ]
    },
    {
     "name": "stderr",
     "output_type": "stream",
     "text": [
      "UserWarning: Non-invertible starting seasonal moving average Using zeros as starting parameters.\n",
      "\n"
     ]
    },
    {
     "name": "stdout",
     "output_type": "stream",
     "text": [
      "100%|██████████| 3/3 [00:09<00:00,  3.03s/trial, best loss: 170.8995553912203]\n",
      "{'D': 0, 'P': 1, 'Q': 1, 'd': 0, 'p': 0, 'q': 2, 'seasonal_order': 0}\n",
      "Training .......\n",
      " model_TX_3_HOUSEHOLD_2 \n",
      " 67%|██████▋   | 2/3 [00:07<00:04,  4.05s/trial, best loss: 24.364543470678065]"
     ]
    },
    {
     "name": "stderr",
     "output_type": "stream",
     "text": [
      "ConvergenceWarning: Maximum Likelihood optimization failed to converge. Check mle_retvals\n",
      "\n"
     ]
    },
    {
     "name": "stdout",
     "output_type": "stream",
     "text": [
      "100%|██████████| 3/3 [00:07<00:00,  2.48s/trial, best loss: 24.364543470678065]\n",
      "{'D': 1, 'P': 0, 'Q': 2, 'd': 0, 'p': 0, 'q': 0, 'seasonal_order': 1}\n",
      "Training .......\n",
      " model_WI_1_FOODS_1 \n",
      " 33%|███▎      | 1/3 [00:00<00:01,  1.36trial/s, best loss: 23420.437050527053]"
     ]
    },
    {
     "name": "stderr",
     "output_type": "stream",
     "text": [
      "UserWarning: Non-invertible starting MA parameters found. Using zeros as starting parameters.\n",
      "\n"
     ]
    },
    {
     "name": "stdout",
     "output_type": "stream",
     "text": [
      " 67%|██████▋   | 2/3 [00:07<00:04,  4.16s/trial, best loss: 60.487530056627214]"
     ]
    },
    {
     "name": "stderr",
     "output_type": "stream",
     "text": [
      "ConvergenceWarning: Maximum Likelihood optimization failed to converge. Check mle_retvals\n",
      "\n"
     ]
    },
    {
     "name": "stdout",
     "output_type": "stream",
     "text": [
      "100%|██████████| 3/3 [01:12<00:00, 24.26s/trial, best loss: 60.487530056627214]\n",
      "{'D': 0, 'P': 2, 'Q': 2, 'd': 2, 'p': 0, 'q': 2, 'seasonal_order': 7}\n",
      "Training .......\n",
      " model_WI_1_FOODS_2 \n",
      "100%|██████████| 3/3 [00:39<00:00, 13.16s/trial, best loss: 121.18895141659661]\n",
      "{'D': 1, 'P': 2, 'Q': 2, 'd': 0, 'p': 2, 'q': 2, 'seasonal_order': 1}\n",
      "Training .......\n",
      " model_WI_1_FOODS_3 \n",
      "100%|██████████| 3/3 [00:07<00:00,  2.58s/trial, best loss: 1533.197731106778] \n",
      "{'D': 0, 'P': 0, 'Q': 1, 'd': 0, 'p': 0, 'q': 1, 'seasonal_order': 4}\n",
      "Training .......\n",
      " model_WI_1_HOBBIES_1 \n",
      "  0%|          | 0/3 [00:00<?, ?trial/s, best loss=?]"
     ]
    },
    {
     "name": "stderr",
     "output_type": "stream",
     "text": [
      "UserWarning: Non-invertible starting MA parameters found. Using zeros as starting parameters.\n",
      "\n",
      "UserWarning: Non-invertible starting seasonal moving average Using zeros as starting parameters.\n",
      "\n"
     ]
    },
    {
     "name": "stdout",
     "output_type": "stream",
     "text": [
      " 33%|███▎      | 1/3 [00:03<00:07,  3.83s/trial, best loss: 3156.3876180601833]"
     ]
    },
    {
     "name": "stderr",
     "output_type": "stream",
     "text": [
      "UserWarning: Non-invertible starting seasonal moving average Using zeros as starting parameters.\n",
      "\n"
     ]
    },
    {
     "name": "stdout",
     "output_type": "stream",
     "text": [
      "100%|██████████| 3/3 [00:08<00:00,  2.97s/trial, best loss: 259.8809010683812] \n",
      "{'D': 1, 'P': 0, 'Q': 1, 'd': 2, 'p': 1, 'q': 2, 'seasonal_order': 5}\n",
      "Training .......\n",
      " model_WI_1_HOBBIES_2 \n",
      " 33%|███▎      | 1/3 [00:00<00:01,  1.44trial/s, best loss: 35.73666553003857]"
     ]
    },
    {
     "name": "stderr",
     "output_type": "stream",
     "text": [
      "UserWarning: Non-invertible starting MA parameters found. Using zeros as starting parameters.\n",
      "\n",
      "ConvergenceWarning: Maximum Likelihood optimization failed to converge. Check mle_retvals\n",
      "\n"
     ]
    },
    {
     "name": "stdout",
     "output_type": "stream",
     "text": [
      "100%|██████████| 3/3 [00:14<00:00,  4.82s/trial, best loss: 14.405373221830086]\n",
      "{'D': 1, 'P': 0, 'Q': 2, 'd': 0, 'p': 2, 'q': 2, 'seasonal_order': 5}\n",
      "Training .......\n",
      " model_WI_1_HOUSEHOLD_1 \n",
      " 33%|███▎      | 1/3 [00:00<00:01,  1.02trial/s, best loss: 474.25177139968315]"
     ]
    },
    {
     "name": "stderr",
     "output_type": "stream",
     "text": [
      "UserWarning: Non-stationary starting autoregressive parameters found. Using zeros as starting parameters.\n",
      "\n"
     ]
    },
    {
     "name": "stdout",
     "output_type": "stream",
     "text": [
      "100%|██████████| 3/3 [00:06<00:00,  2.12s/trial, best loss: 135.40338666273422]\n",
      "{'D': 0, 'P': 2, 'Q': 1, 'd': 0, 'p': 1, 'q': 2, 'seasonal_order': 7}\n",
      "Training .......\n",
      " model_WI_1_HOUSEHOLD_2 \n",
      "  0%|          | 0/3 [00:00<?, ?trial/s, best loss=?]"
     ]
    },
    {
     "name": "stderr",
     "output_type": "stream",
     "text": [
      "ConvergenceWarning: Maximum Likelihood optimization failed to converge. Check mle_retvals\n",
      "\n"
     ]
    },
    {
     "name": "stdout",
     "output_type": "stream",
     "text": [
      "100%|██████████| 3/3 [00:16<00:00,  5.54s/trial, best loss: 32.38392243088302] \n",
      "{'D': 1, 'P': 1, 'Q': 1, 'd': 0, 'p': 0, 'q': 1, 'seasonal_order': 0}\n",
      "Training .......\n",
      " model_WI_2_FOODS_1 \n",
      "  0%|          | 0/3 [00:00<?, ?trial/s, best loss=?]"
     ]
    },
    {
     "name": "stderr",
     "output_type": "stream",
     "text": [
      "ConvergenceWarning: Maximum Likelihood optimization failed to converge. Check mle_retvals\n",
      "\n"
     ]
    },
    {
     "name": "stdout",
     "output_type": "stream",
     "text": [
      " 67%|██████▋   | 2/3 [00:10<00:05,  5.57s/trial, best loss: 61.04812703526515]"
     ]
    },
    {
     "name": "stderr",
     "output_type": "stream",
     "text": [
      "UserWarning: Non-stationary starting autoregressive parameters found. Using zeros as starting parameters.\n",
      "\n",
      "UserWarning: Non-invertible starting MA parameters found. Using zeros as starting parameters.\n",
      "\n"
     ]
    },
    {
     "name": "stdout",
     "output_type": "stream",
     "text": [
      "100%|██████████| 3/3 [00:13<00:00,  4.44s/trial, best loss: 61.04812703526515]\n",
      "{'D': 2, 'P': 1, 'Q': 1, 'd': 0, 'p': 0, 'q': 2, 'seasonal_order': 2}\n",
      "Training .......\n",
      " model_WI_2_FOODS_2 \n",
      "  0%|          | 0/3 [00:00<?, ?trial/s, best loss=?]"
     ]
    },
    {
     "name": "stderr",
     "output_type": "stream",
     "text": [
      "UserWarning: Non-invertible starting MA parameters found. Using zeros as starting parameters.\n",
      "\n"
     ]
    },
    {
     "name": "stdout",
     "output_type": "stream",
     "text": [
      " 67%|██████▋   | 2/3 [00:05<00:02,  2.54s/trial, best loss: 406.00139357333944]"
     ]
    },
    {
     "name": "stderr",
     "output_type": "stream",
     "text": [
      "ConvergenceWarning: Maximum Likelihood optimization failed to converge. Check mle_retvals\n",
      "\n"
     ]
    },
    {
     "name": "stdout",
     "output_type": "stream",
     "text": [
      "100%|██████████| 3/3 [00:10<00:00,  3.47s/trial, best loss: 339.30103199337657]\n",
      "{'D': 0, 'P': 2, 'Q': 2, 'd': 1, 'p': 0, 'q': 1, 'seasonal_order': 4}\n",
      "Training .......\n",
      " model_WI_2_FOODS_3 \n",
      "  0%|          | 0/3 [00:00<?, ?trial/s, best loss=?]"
     ]
    },
    {
     "name": "stderr",
     "output_type": "stream",
     "text": [
      "ConvergenceWarning: Maximum Likelihood optimization failed to converge. Check mle_retvals\n",
      "\n"
     ]
    },
    {
     "name": "stdout",
     "output_type": "stream",
     "text": [
      " 33%|███▎      | 1/3 [00:47<01:35, 47.52s/trial, best loss: 2782.013326424778]"
     ]
    },
    {
     "name": "stderr",
     "output_type": "stream",
     "text": [
      "UserWarning: Non-invertible starting MA parameters found. Using zeros as starting parameters.\n",
      "\n"
     ]
    },
    {
     "name": "stdout",
     "output_type": "stream",
     "text": [
      "100%|██████████| 3/3 [00:52<00:00, 17.51s/trial, best loss: 439.02284045413126]\n",
      "{'D': 0, 'P': 2, 'Q': 0, 'd': 2, 'p': 1, 'q': 2, 'seasonal_order': 5}\n",
      "Training .......\n",
      " model_WI_2_HOBBIES_1 \n",
      "100%|██████████| 3/3 [00:03<00:00,  1.05s/trial, best loss: 46.04873168851166]\n",
      "{'D': 0, 'P': 0, 'Q': 2, 'd': 2, 'p': 1, 'q': 1, 'seasonal_order': 6}\n",
      "Training .......\n",
      " model_WI_2_HOBBIES_2 \n",
      "  0%|          | 0/3 [00:00<?, ?trial/s, best loss=?]"
     ]
    },
    {
     "name": "stderr",
     "output_type": "stream",
     "text": [
      "UserWarning: Non-invertible starting MA parameters found. Using zeros as starting parameters.\n",
      "\n",
      "ConvergenceWarning: Maximum Likelihood optimization failed to converge. Check mle_retvals\n",
      "\n"
     ]
    },
    {
     "name": "stdout",
     "output_type": "stream",
     "text": [
      " 33%|███▎      | 1/3 [00:32<01:04, 32.39s/trial, best loss: 16.527776943041918]"
     ]
    },
    {
     "name": "stderr",
     "output_type": "stream",
     "text": [
      "UserWarning: Non-invertible starting MA parameters found. Using zeros as starting parameters.\n",
      "\n"
     ]
    },
    {
     "name": "stdout",
     "output_type": "stream",
     "text": [
      " 67%|██████▋   | 2/3 [00:33<00:13, 13.84s/trial, best loss: 12.619392906581545]"
     ]
    },
    {
     "name": "stderr",
     "output_type": "stream",
     "text": [
      "ConvergenceWarning: Maximum Likelihood optimization failed to converge. Check mle_retvals\n",
      "\n"
     ]
    },
    {
     "name": "stdout",
     "output_type": "stream",
     "text": [
      "100%|██████████| 3/3 [00:47<00:00, 15.74s/trial, best loss: 12.619392906581545]\n",
      "{'D': 0, 'P': 0, 'Q': 1, 'd': 2, 'p': 0, 'q': 1, 'seasonal_order': 1}\n",
      "Training .......\n",
      " model_WI_2_HOUSEHOLD_1 \n",
      " 33%|███▎      | 1/3 [00:05<00:10,  5.13s/trial, best loss: 170.1029538394801]"
     ]
    },
    {
     "name": "stderr",
     "output_type": "stream",
     "text": [
      "UserWarning: Non-invertible starting MA parameters found. Using zeros as starting parameters.\n",
      "\n",
      "ConvergenceWarning: Maximum Likelihood optimization failed to converge. Check mle_retvals\n",
      "\n"
     ]
    },
    {
     "name": "stdout",
     "output_type": "stream",
     "text": [
      " 67%|██████▋   | 2/3 [00:12<00:06,  6.26s/trial, best loss: 170.1029538394801]"
     ]
    },
    {
     "name": "stderr",
     "output_type": "stream",
     "text": [
      "UserWarning: Non-stationary starting autoregressive parameters found. Using zeros as starting parameters.\n",
      "\n",
      "UserWarning: Non-invertible starting MA parameters found. Using zeros as starting parameters.\n",
      "\n"
     ]
    },
    {
     "name": "stdout",
     "output_type": "stream",
     "text": [
      "100%|██████████| 3/3 [00:14<00:00,  4.87s/trial, best loss: 170.1029538394801]\n",
      "{'D': 1, 'P': 2, 'Q': 1, 'd': 2, 'p': 1, 'q': 1, 'seasonal_order': 2}\n",
      "Training .......\n",
      " model_WI_2_HOUSEHOLD_2 \n",
      "100%|██████████| 3/3 [00:06<00:00,  2.33s/trial, best loss: 25.629781348537897]\n",
      "{'D': 1, 'P': 0, 'Q': 0, 'd': 0, 'p': 2, 'q': 2, 'seasonal_order': 2}\n",
      "Training .......\n",
      " model_WI_3_FOODS_1 \n",
      " 67%|██████▋   | 2/3 [00:00<00:00,  2.18trial/s, best loss: 80.63405456924112]"
     ]
    },
    {
     "name": "stderr",
     "output_type": "stream",
     "text": [
      "UserWarning: Non-stationary starting autoregressive parameters found. Using zeros as starting parameters.\n",
      "\n",
      "UserWarning: Non-invertible starting MA parameters found. Using zeros as starting parameters.\n",
      "\n"
     ]
    },
    {
     "name": "stdout",
     "output_type": "stream",
     "text": [
      "100%|██████████| 3/3 [00:05<00:00,  1.94s/trial, best loss: 60.2382962210999] \n",
      "{'D': 0, 'P': 2, 'Q': 1, 'd': 2, 'p': 1, 'q': 2, 'seasonal_order': 5}\n",
      "Training .......\n",
      " model_WI_3_FOODS_2 \n",
      "100%|██████████| 3/3 [00:07<00:00,  2.54s/trial, best loss: 141.71394045673762]\n",
      "{'D': 1, 'P': 0, 'Q': 1, 'd': 0, 'p': 0, 'q': 0, 'seasonal_order': 4}\n",
      "Training .......\n",
      " model_WI_3_FOODS_3 \n",
      " 33%|███▎      | 1/3 [00:03<00:06,  3.45s/trial, best loss: 333.32574837552175]"
     ]
    },
    {
     "name": "stderr",
     "output_type": "stream",
     "text": [
      "UserWarning: Non-invertible starting MA parameters found. Using zeros as starting parameters.\n",
      "\n"
     ]
    },
    {
     "name": "stdout",
     "output_type": "stream",
     "text": [
      "100%|██████████| 3/3 [00:42<00:00, 14.31s/trial, best loss: 333.32574837552175]\n",
      "{'D': 1, 'P': 1, 'Q': 1, 'd': 0, 'p': 0, 'q': 2, 'seasonal_order': 4}\n",
      "Training .......\n",
      " model_WI_3_HOBBIES_1 \n",
      " 33%|███▎      | 1/3 [00:02<00:05,  2.65s/trial, best loss: 55.09070342715288]"
     ]
    },
    {
     "name": "stderr",
     "output_type": "stream",
     "text": [
      "UserWarning: Non-stationary starting autoregressive parameters found. Using zeros as starting parameters.\n",
      "\n",
      "UserWarning: Non-invertible starting seasonal moving average Using zeros as starting parameters.\n",
      "\n",
      "ConvergenceWarning: Maximum Likelihood optimization failed to converge. Check mle_retvals\n",
      "\n"
     ]
    },
    {
     "name": "stdout",
     "output_type": "stream",
     "text": [
      "100%|██████████| 3/3 [00:34<00:00, 11.55s/trial, best loss: 46.508074717803424]\n",
      "{'D': 0, 'P': 2, 'Q': 2, 'd': 0, 'p': 1, 'q': 2, 'seasonal_order': 5}\n",
      "Training .......\n",
      " model_WI_3_HOBBIES_2 \n",
      "  0%|          | 0/3 [00:00<?, ?trial/s, best loss=?]"
     ]
    },
    {
     "name": "stderr",
     "output_type": "stream",
     "text": [
      "UserWarning: Non-invertible starting seasonal moving average Using zeros as starting parameters.\n",
      "\n",
      "ConvergenceWarning: Maximum Likelihood optimization failed to converge. Check mle_retvals\n",
      "\n"
     ]
    },
    {
     "name": "stdout",
     "output_type": "stream",
     "text": [
      "100%|██████████| 3/3 [01:40<00:00, 33.62s/trial, best loss: 12.235408862502613]\n",
      "{'D': 0, 'P': 0, 'Q': 1, 'd': 1, 'p': 0, 'q': 2, 'seasonal_order': 4}\n",
      "Training .......\n",
      " model_WI_3_HOUSEHOLD_1 \n",
      " 33%|███▎      | 1/3 [00:00<00:01,  1.23trial/s, best loss: 124.27539584461785]"
     ]
    },
    {
     "name": "stderr",
     "output_type": "stream",
     "text": [
      "ConvergenceWarning: Maximum Likelihood optimization failed to converge. Check mle_retvals\n",
      "\n"
     ]
    },
    {
     "name": "stdout",
     "output_type": "stream",
     "text": [
      "100%|██████████| 3/3 [00:13<00:00,  4.46s/trial, best loss: 124.27539584461785]\n",
      "{'D': 1, 'P': 0, 'Q': 1, 'd': 1, 'p': 0, 'q': 0, 'seasonal_order': 6}\n",
      "Training .......\n",
      " model_WI_3_HOUSEHOLD_2 \n",
      "100%|██████████| 3/3 [00:10<00:00,  3.54s/trial, best loss: 32.78613057630426]\n",
      "{'D': 1, 'P': 0, 'Q': 2, 'd': 0, 'p': 2, 'q': 0, 'seasonal_order': 4}\n"
     ]
    }
   ],
   "source": [
    "best ={}\n",
    "\n",
    "\n",
    "\n",
    "for i in data.columns:\n",
    "    y_train_data_ = pd.DataFrame()\n",
    "    y_test_data_ = pd.DataFrame()\n",
    "    y_train_data_[i] = y_train_[i].astype('float')\n",
    "    y_test_data_[i] = y_test_[i].astype('float')\n",
    "\n",
    "    def objective( params):\n",
    "        sarimax_model = sm.tsa.statespace.SARIMAX(endog=y_train_data_[i], order=(params['p'], params['d'], params['q']), seasonal_order=(params['P'], params['D'], params['Q'], 12))\n",
    "        sarimax_result = sarimax_model.fit()\n",
    "        y_pred = sarimax_result.forecast(steps=y_test_data_.shape[0])\n",
    "        mse = mean_absolute_error(y_test_data_, y_pred)\n",
    "        return {'loss': mse, 'status': STATUS_OK}\n",
    "\n",
    "    \n",
    "    print(f\"Training .......\\n model_{i} \")\n",
    "\n",
    "    trials = Trials()\n",
    "    # optimize hyperparameters using Hyperopt's Tree-structured Parzen Estimator (TPE) algorithm\n",
    "    best[\"best_param_{0}\".format(i)] = fmin(fn=objective,space=space,algo=tpe.suggest,max_evals=3,trials=trials)\n",
    "\n",
    "    print(best[\"best_param_{0}\".format(i)])"
   ]
  },
  {
   "attachments": {},
   "cell_type": "markdown",
   "metadata": {},
   "source": [
    "### Save Best parameters"
   ]
  },
  {
   "cell_type": "code",
   "execution_count": 53,
   "metadata": {},
   "outputs": [],
   "source": [
    "utils.save_to_json('sarimax_best_params',best,'w')"
   ]
  },
  {
   "attachments": {},
   "cell_type": "markdown",
   "metadata": {},
   "source": [
    "## Training with best parameters Model Training"
   ]
  },
  {
   "attachments": {},
   "cell_type": "markdown",
   "metadata": {},
   "source": [
    "### Reading Best Parameters"
   ]
  },
  {
   "cell_type": "code",
   "execution_count": 54,
   "metadata": {},
   "outputs": [
    {
     "data": {
      "text/plain": [
       "dict_keys(['best_param_CA_1_FOODS_1', 'best_param_CA_1_FOODS_2', 'best_param_CA_1_FOODS_3', 'best_param_CA_1_HOBBIES_1', 'best_param_CA_1_HOBBIES_2', 'best_param_CA_1_HOUSEHOLD_1', 'best_param_CA_1_HOUSEHOLD_2', 'best_param_CA_2_FOODS_1', 'best_param_CA_2_FOODS_2', 'best_param_CA_2_FOODS_3', 'best_param_CA_2_HOBBIES_1', 'best_param_CA_2_HOBBIES_2', 'best_param_CA_2_HOUSEHOLD_1', 'best_param_CA_2_HOUSEHOLD_2', 'best_param_CA_3_FOODS_1', 'best_param_CA_3_FOODS_2', 'best_param_CA_3_FOODS_3', 'best_param_CA_3_HOBBIES_1', 'best_param_CA_3_HOBBIES_2', 'best_param_CA_3_HOUSEHOLD_1', 'best_param_CA_3_HOUSEHOLD_2', 'best_param_CA_4_FOODS_1', 'best_param_CA_4_FOODS_2', 'best_param_CA_4_FOODS_3', 'best_param_CA_4_HOBBIES_1', 'best_param_CA_4_HOBBIES_2', 'best_param_CA_4_HOUSEHOLD_1', 'best_param_CA_4_HOUSEHOLD_2', 'best_param_TX_1_FOODS_1', 'best_param_TX_1_FOODS_2', 'best_param_TX_1_FOODS_3', 'best_param_TX_1_HOBBIES_1', 'best_param_TX_1_HOBBIES_2', 'best_param_TX_1_HOUSEHOLD_1', 'best_param_TX_1_HOUSEHOLD_2', 'best_param_TX_2_FOODS_1', 'best_param_TX_2_FOODS_2', 'best_param_TX_2_FOODS_3', 'best_param_TX_2_HOBBIES_1', 'best_param_TX_2_HOBBIES_2', 'best_param_TX_2_HOUSEHOLD_1', 'best_param_TX_2_HOUSEHOLD_2', 'best_param_TX_3_FOODS_1', 'best_param_TX_3_FOODS_2', 'best_param_TX_3_FOODS_3', 'best_param_TX_3_HOBBIES_1', 'best_param_TX_3_HOBBIES_2', 'best_param_TX_3_HOUSEHOLD_1', 'best_param_TX_3_HOUSEHOLD_2', 'best_param_WI_1_FOODS_1', 'best_param_WI_1_FOODS_2', 'best_param_WI_1_FOODS_3', 'best_param_WI_1_HOBBIES_1', 'best_param_WI_1_HOBBIES_2', 'best_param_WI_1_HOUSEHOLD_1', 'best_param_WI_1_HOUSEHOLD_2', 'best_param_WI_2_FOODS_1', 'best_param_WI_2_FOODS_2', 'best_param_WI_2_FOODS_3', 'best_param_WI_2_HOBBIES_1', 'best_param_WI_2_HOBBIES_2', 'best_param_WI_2_HOUSEHOLD_1', 'best_param_WI_2_HOUSEHOLD_2', 'best_param_WI_3_FOODS_1', 'best_param_WI_3_FOODS_2', 'best_param_WI_3_FOODS_3', 'best_param_WI_3_HOBBIES_1', 'best_param_WI_3_HOBBIES_2', 'best_param_WI_3_HOUSEHOLD_1', 'best_param_WI_3_HOUSEHOLD_2'])"
      ]
     },
     "execution_count": 54,
     "metadata": {},
     "output_type": "execute_result"
    }
   ],
   "source": [
    "best =utils.read_from_json('sarimax_best_params',mode=\"r\")\n",
    "best.keys()"
   ]
  },
  {
   "attachments": {},
   "cell_type": "markdown",
   "metadata": {},
   "source": [
    "### Model Training"
   ]
  },
  {
   "cell_type": "code",
   "execution_count": 57,
   "metadata": {},
   "outputs": [
    {
     "name": "stdout",
     "output_type": "stream",
     "text": [
      "Traning model_CA_1_FOODS_1 ........\n",
      "Traning model_CA_1_FOODS_2 ........\n"
     ]
    },
    {
     "name": "stderr",
     "output_type": "stream",
     "text": [
      "UserWarning: Non-stationary starting autoregressive parameters found. Using zeros as starting parameters.\n",
      "UserWarning: Non-invertible starting MA parameters found. Using zeros as starting parameters.\n"
     ]
    },
    {
     "name": "stdout",
     "output_type": "stream",
     "text": [
      "Traning model_CA_1_FOODS_3 ........\n",
      "Traning model_CA_1_HOBBIES_1 ........\n"
     ]
    },
    {
     "name": "stderr",
     "output_type": "stream",
     "text": [
      "UserWarning: Non-invertible starting MA parameters found. Using zeros as starting parameters.\n"
     ]
    },
    {
     "name": "stdout",
     "output_type": "stream",
     "text": [
      "Traning model_CA_1_HOBBIES_2 ........\n",
      "Traning model_CA_1_HOUSEHOLD_1 ........\n"
     ]
    },
    {
     "name": "stderr",
     "output_type": "stream",
     "text": [
      "UserWarning: Non-stationary starting autoregressive parameters found. Using zeros as starting parameters.\n",
      "UserWarning: Non-invertible starting MA parameters found. Using zeros as starting parameters.\n"
     ]
    },
    {
     "name": "stdout",
     "output_type": "stream",
     "text": [
      "Traning model_CA_1_HOUSEHOLD_2 ........\n"
     ]
    },
    {
     "name": "stderr",
     "output_type": "stream",
     "text": [
      "UserWarning: Non-stationary starting autoregressive parameters found. Using zeros as starting parameters.\n",
      "UserWarning: Non-invertible starting MA parameters found. Using zeros as starting parameters.\n"
     ]
    },
    {
     "name": "stdout",
     "output_type": "stream",
     "text": [
      "Traning model_CA_2_FOODS_1 ........\n",
      "Traning model_CA_2_FOODS_2 ........\n",
      "Traning model_CA_2_FOODS_3 ........\n"
     ]
    },
    {
     "name": "stderr",
     "output_type": "stream",
     "text": [
      "UserWarning: Non-invertible starting MA parameters found. Using zeros as starting parameters.\n"
     ]
    },
    {
     "name": "stdout",
     "output_type": "stream",
     "text": [
      "Traning model_CA_2_HOBBIES_1 ........\n",
      "Traning model_CA_2_HOBBIES_2 ........\n"
     ]
    },
    {
     "name": "stderr",
     "output_type": "stream",
     "text": [
      "ConvergenceWarning: Maximum Likelihood optimization failed to converge. Check mle_retvals\n"
     ]
    },
    {
     "name": "stdout",
     "output_type": "stream",
     "text": [
      "Traning model_CA_2_HOUSEHOLD_1 ........\n",
      "Traning model_CA_2_HOUSEHOLD_2 ........\n"
     ]
    },
    {
     "name": "stderr",
     "output_type": "stream",
     "text": [
      "UserWarning: Non-invertible starting MA parameters found. Using zeros as starting parameters.\n",
      "ConvergenceWarning: Maximum Likelihood optimization failed to converge. Check mle_retvals\n"
     ]
    },
    {
     "name": "stdout",
     "output_type": "stream",
     "text": [
      "Traning model_CA_3_FOODS_1 ........\n",
      "Traning model_CA_3_FOODS_2 ........\n",
      "Traning model_CA_3_FOODS_3 ........\n",
      "Traning model_CA_3_HOBBIES_1 ........\n",
      "Traning model_CA_3_HOBBIES_2 ........\n"
     ]
    },
    {
     "name": "stderr",
     "output_type": "stream",
     "text": [
      "UserWarning: Non-invertible starting MA parameters found. Using zeros as starting parameters.\n",
      "ConvergenceWarning: Maximum Likelihood optimization failed to converge. Check mle_retvals\n"
     ]
    },
    {
     "name": "stdout",
     "output_type": "stream",
     "text": [
      "Traning model_CA_3_HOUSEHOLD_1 ........\n"
     ]
    },
    {
     "name": "stderr",
     "output_type": "stream",
     "text": [
      "UserWarning: Non-stationary starting autoregressive parameters found. Using zeros as starting parameters.\n",
      "UserWarning: Non-invertible starting MA parameters found. Using zeros as starting parameters.\n",
      "ConvergenceWarning: Maximum Likelihood optimization failed to converge. Check mle_retvals\n"
     ]
    },
    {
     "name": "stdout",
     "output_type": "stream",
     "text": [
      "Traning model_CA_3_HOUSEHOLD_2 ........\n",
      "Traning model_CA_4_FOODS_1 ........\n"
     ]
    },
    {
     "name": "stderr",
     "output_type": "stream",
     "text": [
      "ConvergenceWarning: Maximum Likelihood optimization failed to converge. Check mle_retvals\n"
     ]
    },
    {
     "name": "stdout",
     "output_type": "stream",
     "text": [
      "Traning model_CA_4_FOODS_2 ........\n",
      "Traning model_CA_4_FOODS_3 ........\n",
      "Traning model_CA_4_HOBBIES_1 ........\n"
     ]
    },
    {
     "name": "stderr",
     "output_type": "stream",
     "text": [
      "UserWarning: Non-stationary starting autoregressive parameters found. Using zeros as starting parameters.\n",
      "UserWarning: Non-invertible starting MA parameters found. Using zeros as starting parameters.\n",
      "ConvergenceWarning: Maximum Likelihood optimization failed to converge. Check mle_retvals\n"
     ]
    },
    {
     "name": "stdout",
     "output_type": "stream",
     "text": [
      "Traning model_CA_4_HOBBIES_2 ........\n"
     ]
    },
    {
     "name": "stderr",
     "output_type": "stream",
     "text": [
      "UserWarning: Non-invertible starting MA parameters found. Using zeros as starting parameters.\n"
     ]
    },
    {
     "name": "stdout",
     "output_type": "stream",
     "text": [
      "Traning model_CA_4_HOUSEHOLD_1 ........\n"
     ]
    },
    {
     "name": "stderr",
     "output_type": "stream",
     "text": [
      "UserWarning: Non-invertible starting MA parameters found. Using zeros as starting parameters.\n",
      "ConvergenceWarning: Maximum Likelihood optimization failed to converge. Check mle_retvals\n"
     ]
    },
    {
     "name": "stdout",
     "output_type": "stream",
     "text": [
      "Traning model_CA_4_HOUSEHOLD_2 ........\n",
      "Traning model_TX_1_FOODS_1 ........\n",
      "Traning model_TX_1_FOODS_2 ........\n",
      "Traning model_TX_1_FOODS_3 ........\n"
     ]
    },
    {
     "name": "stderr",
     "output_type": "stream",
     "text": [
      "ConvergenceWarning: Maximum Likelihood optimization failed to converge. Check mle_retvals\n"
     ]
    },
    {
     "name": "stdout",
     "output_type": "stream",
     "text": [
      "Traning model_TX_1_HOBBIES_1 ........\n",
      "Traning model_TX_1_HOBBIES_2 ........\n",
      "Traning model_TX_1_HOUSEHOLD_1 ........\n"
     ]
    },
    {
     "name": "stderr",
     "output_type": "stream",
     "text": [
      "UserWarning: Non-stationary starting autoregressive parameters found. Using zeros as starting parameters.\n",
      "UserWarning: Non-invertible starting MA parameters found. Using zeros as starting parameters.\n"
     ]
    },
    {
     "name": "stdout",
     "output_type": "stream",
     "text": [
      "Traning model_TX_1_HOUSEHOLD_2 ........\n"
     ]
    },
    {
     "name": "stderr",
     "output_type": "stream",
     "text": [
      "UserWarning: Non-stationary starting autoregressive parameters found. Using zeros as starting parameters.\n",
      "UserWarning: Non-invertible starting MA parameters found. Using zeros as starting parameters.\n",
      "ConvergenceWarning: Maximum Likelihood optimization failed to converge. Check mle_retvals\n"
     ]
    },
    {
     "name": "stdout",
     "output_type": "stream",
     "text": [
      "Traning model_TX_2_FOODS_1 ........\n"
     ]
    },
    {
     "name": "stderr",
     "output_type": "stream",
     "text": [
      "UserWarning: Non-invertible starting MA parameters found. Using zeros as starting parameters.\n"
     ]
    },
    {
     "name": "stdout",
     "output_type": "stream",
     "text": [
      "Traning model_TX_2_FOODS_2 ........\n",
      "Traning model_TX_2_FOODS_3 ........\n"
     ]
    },
    {
     "name": "stderr",
     "output_type": "stream",
     "text": [
      "UserWarning: Non-invertible starting MA parameters found. Using zeros as starting parameters.\n",
      "UserWarning: Non-invertible starting seasonal moving average Using zeros as starting parameters.\n"
     ]
    },
    {
     "name": "stdout",
     "output_type": "stream",
     "text": [
      "Traning model_TX_2_HOBBIES_1 ........\n"
     ]
    },
    {
     "name": "stderr",
     "output_type": "stream",
     "text": [
      "UserWarning: Non-invertible starting MA parameters found. Using zeros as starting parameters.\n"
     ]
    },
    {
     "name": "stdout",
     "output_type": "stream",
     "text": [
      "Traning model_TX_2_HOBBIES_2 ........\n"
     ]
    },
    {
     "name": "stderr",
     "output_type": "stream",
     "text": [
      "ConvergenceWarning: Maximum Likelihood optimization failed to converge. Check mle_retvals\n"
     ]
    },
    {
     "name": "stdout",
     "output_type": "stream",
     "text": [
      "Traning model_TX_2_HOUSEHOLD_1 ........\n"
     ]
    },
    {
     "name": "stderr",
     "output_type": "stream",
     "text": [
      "UserWarning: Non-invertible starting MA parameters found. Using zeros as starting parameters.\n",
      "ConvergenceWarning: Maximum Likelihood optimization failed to converge. Check mle_retvals\n"
     ]
    },
    {
     "name": "stdout",
     "output_type": "stream",
     "text": [
      "Traning model_TX_2_HOUSEHOLD_2 ........\n",
      "Traning model_TX_3_FOODS_1 ........\n"
     ]
    },
    {
     "name": "stderr",
     "output_type": "stream",
     "text": [
      "UserWarning: Non-invertible starting seasonal moving average Using zeros as starting parameters.\n"
     ]
    },
    {
     "name": "stdout",
     "output_type": "stream",
     "text": [
      "Traning model_TX_3_FOODS_2 ........\n",
      "Traning model_TX_3_FOODS_3 ........\n",
      "Traning model_TX_3_HOBBIES_1 ........\n"
     ]
    },
    {
     "name": "stderr",
     "output_type": "stream",
     "text": [
      "ConvergenceWarning: Maximum Likelihood optimization failed to converge. Check mle_retvals\n"
     ]
    },
    {
     "name": "stdout",
     "output_type": "stream",
     "text": [
      "Traning model_TX_3_HOBBIES_2 ........\n"
     ]
    },
    {
     "name": "stderr",
     "output_type": "stream",
     "text": [
      "UserWarning: Non-invertible starting MA parameters found. Using zeros as starting parameters.\n",
      "ConvergenceWarning: Maximum Likelihood optimization failed to converge. Check mle_retvals\n"
     ]
    },
    {
     "name": "stdout",
     "output_type": "stream",
     "text": [
      "Traning model_TX_3_HOUSEHOLD_1 ........\n"
     ]
    },
    {
     "name": "stderr",
     "output_type": "stream",
     "text": [
      "ConvergenceWarning: Maximum Likelihood optimization failed to converge. Check mle_retvals\n"
     ]
    },
    {
     "name": "stdout",
     "output_type": "stream",
     "text": [
      "Traning model_TX_3_HOUSEHOLD_2 ........\n",
      "Traning model_WI_1_FOODS_1 ........\n"
     ]
    },
    {
     "name": "stderr",
     "output_type": "stream",
     "text": [
      "UserWarning: Non-invertible starting MA parameters found. Using zeros as starting parameters.\n",
      "ConvergenceWarning: Maximum Likelihood optimization failed to converge. Check mle_retvals\n"
     ]
    },
    {
     "name": "stdout",
     "output_type": "stream",
     "text": [
      "Traning model_WI_1_FOODS_2 ........\n",
      "Traning model_WI_1_FOODS_3 ........\n",
      "Traning model_WI_1_HOBBIES_1 ........\n",
      "Traning model_WI_1_HOBBIES_2 ........\n",
      "Traning model_WI_1_HOUSEHOLD_1 ........\n"
     ]
    },
    {
     "name": "stderr",
     "output_type": "stream",
     "text": [
      "UserWarning: Non-stationary starting autoregressive parameters found. Using zeros as starting parameters.\n"
     ]
    },
    {
     "name": "stdout",
     "output_type": "stream",
     "text": [
      "Traning model_WI_1_HOUSEHOLD_2 ........\n",
      "Traning model_WI_2_FOODS_1 ........\n",
      "Traning model_WI_2_FOODS_2 ........\n",
      "Traning model_WI_2_FOODS_3 ........\n"
     ]
    },
    {
     "name": "stderr",
     "output_type": "stream",
     "text": [
      "UserWarning: Non-invertible starting MA parameters found. Using zeros as starting parameters.\n"
     ]
    },
    {
     "name": "stdout",
     "output_type": "stream",
     "text": [
      "Traning model_WI_2_HOBBIES_1 ........\n",
      "Traning model_WI_2_HOBBIES_2 ........\n"
     ]
    },
    {
     "name": "stderr",
     "output_type": "stream",
     "text": [
      "UserWarning: Non-invertible starting MA parameters found. Using zeros as starting parameters.\n"
     ]
    },
    {
     "name": "stdout",
     "output_type": "stream",
     "text": [
      "Traning model_WI_2_HOUSEHOLD_1 ........\n",
      "Traning model_WI_2_HOUSEHOLD_2 ........\n",
      "Traning model_WI_3_FOODS_1 ........\n"
     ]
    },
    {
     "name": "stderr",
     "output_type": "stream",
     "text": [
      "UserWarning: Non-stationary starting autoregressive parameters found. Using zeros as starting parameters.\n",
      "UserWarning: Non-invertible starting MA parameters found. Using zeros as starting parameters.\n",
      "ConvergenceWarning: Maximum Likelihood optimization failed to converge. Check mle_retvals\n"
     ]
    },
    {
     "name": "stdout",
     "output_type": "stream",
     "text": [
      "Traning model_WI_3_FOODS_2 ........\n",
      "Traning model_WI_3_FOODS_3 ........\n",
      "Traning model_WI_3_HOBBIES_1 ........\n"
     ]
    },
    {
     "name": "stderr",
     "output_type": "stream",
     "text": [
      "UserWarning: Non-stationary starting autoregressive parameters found. Using zeros as starting parameters.\n",
      "UserWarning: Non-invertible starting seasonal moving average Using zeros as starting parameters.\n",
      "ConvergenceWarning: Maximum Likelihood optimization failed to converge. Check mle_retvals\n"
     ]
    },
    {
     "name": "stdout",
     "output_type": "stream",
     "text": [
      "Traning model_WI_3_HOBBIES_2 ........\n",
      "Traning model_WI_3_HOUSEHOLD_1 ........\n",
      "Traning model_WI_3_HOUSEHOLD_2 ........\n"
     ]
    }
   ],
   "source": [
    "trained_model={}\n",
    "\n",
    "for i in data.columns:\n",
    "\n",
    "    y_train_data_ = pd.DataFrame()\n",
    "    y_train_data_[i] = data[i].astype('float')\n",
    "    \n",
    "    order = (best[f\"best_param_{i}\"]['p'], best[f\"best_param_{i}\"]['d'], best[f\"best_param_{i}\"]['q'])\n",
    "    seasonal_order = (best[f\"best_param_{i}\"]['P'], best[f\"best_param_{i}\"]['D'], best[f\"best_param_{i}\"]['Q'], 12)\n",
    "    model = sm.tsa.statespace.SARIMAX(\n",
    "        y_train_data_[i],\n",
    "        order=order,\n",
    "        seasonal_order=seasonal_order,\n",
    "        initialization='approximate_diffuse'\n",
    "    )\n",
    "    print(f\"Traning model_{i} ........\")\n",
    "    trained_model[\"model_{0}\".format(i)] =model.fit()\n",
    "    "
   ]
  },
  {
   "attachments": {},
   "cell_type": "markdown",
   "metadata": {},
   "source": [
    "# Generate forcaste"
   ]
  },
  {
   "cell_type": "code",
   "execution_count": 59,
   "metadata": {},
   "outputs": [],
   "source": [
    "\"\"\"\n",
    "Generate a forecast for 100 days of each store \n",
    "\n",
    "\"\"\"\n",
    "total_forecast =pd.DataFrame()\n",
    "for i in trained_model.keys():\n",
    "    forecast = trained_model[i].forecast(steps=100)\n",
    "    total_forecast[i]=forecast"
   ]
  },
  {
   "cell_type": "code",
   "execution_count": 60,
   "metadata": {},
   "outputs": [
    {
     "data": {
      "text/html": [
       "<div>\n",
       "<style scoped>\n",
       "    .dataframe tbody tr th:only-of-type {\n",
       "        vertical-align: middle;\n",
       "    }\n",
       "\n",
       "    .dataframe tbody tr th {\n",
       "        vertical-align: top;\n",
       "    }\n",
       "\n",
       "    .dataframe thead th {\n",
       "        text-align: right;\n",
       "    }\n",
       "</style>\n",
       "<table border=\"1\" class=\"dataframe\">\n",
       "  <thead>\n",
       "    <tr style=\"text-align: right;\">\n",
       "      <th></th>\n",
       "      <th>model_CA_1_FOODS_1</th>\n",
       "      <th>model_CA_1_FOODS_2</th>\n",
       "      <th>model_CA_1_FOODS_3</th>\n",
       "      <th>model_CA_1_HOBBIES_1</th>\n",
       "      <th>model_CA_1_HOBBIES_2</th>\n",
       "      <th>model_CA_1_HOUSEHOLD_1</th>\n",
       "      <th>model_CA_1_HOUSEHOLD_2</th>\n",
       "      <th>model_CA_2_FOODS_1</th>\n",
       "      <th>model_CA_2_FOODS_2</th>\n",
       "      <th>model_CA_2_FOODS_3</th>\n",
       "      <th>...</th>\n",
       "      <th>model_WI_2_HOBBIES_2</th>\n",
       "      <th>model_WI_2_HOUSEHOLD_1</th>\n",
       "      <th>model_WI_2_HOUSEHOLD_2</th>\n",
       "      <th>model_WI_3_FOODS_1</th>\n",
       "      <th>model_WI_3_FOODS_2</th>\n",
       "      <th>model_WI_3_FOODS_3</th>\n",
       "      <th>model_WI_3_HOBBIES_1</th>\n",
       "      <th>model_WI_3_HOBBIES_2</th>\n",
       "      <th>model_WI_3_HOUSEHOLD_1</th>\n",
       "      <th>model_WI_3_HOUSEHOLD_2</th>\n",
       "    </tr>\n",
       "  </thead>\n",
       "  <tbody>\n",
       "    <tr>\n",
       "      <th>2016-04-25</th>\n",
       "      <td>342.307754</td>\n",
       "      <td>664.947651</td>\n",
       "      <td>2666.208185</td>\n",
       "      <td>520.967868</td>\n",
       "      <td>43.091422</td>\n",
       "      <td>957.246481</td>\n",
       "      <td>277.297283</td>\n",
       "      <td>467.060182</td>\n",
       "      <td>488.249205</td>\n",
       "      <td>1808.552064</td>\n",
       "      <td>...</td>\n",
       "      <td>37.779956</td>\n",
       "      <td>887.904640</td>\n",
       "      <td>146.754208</td>\n",
       "      <td>321.307356</td>\n",
       "      <td>517.227014</td>\n",
       "      <td>1863.223995</td>\n",
       "      <td>231.564485</td>\n",
       "      <td>31.005291</td>\n",
       "      <td>763.315111</td>\n",
       "      <td>170.666211</td>\n",
       "    </tr>\n",
       "    <tr>\n",
       "      <th>2016-04-26</th>\n",
       "      <td>349.875503</td>\n",
       "      <td>580.474222</td>\n",
       "      <td>2222.852710</td>\n",
       "      <td>483.502143</td>\n",
       "      <td>44.450147</td>\n",
       "      <td>759.402074</td>\n",
       "      <td>236.746997</td>\n",
       "      <td>456.436310</td>\n",
       "      <td>463.630944</td>\n",
       "      <td>1595.547300</td>\n",
       "      <td>...</td>\n",
       "      <td>37.898900</td>\n",
       "      <td>983.600808</td>\n",
       "      <td>120.673040</td>\n",
       "      <td>317.852484</td>\n",
       "      <td>517.026900</td>\n",
       "      <td>1840.803849</td>\n",
       "      <td>218.223409</td>\n",
       "      <td>31.277465</td>\n",
       "      <td>771.320621</td>\n",
       "      <td>138.741621</td>\n",
       "    </tr>\n",
       "    <tr>\n",
       "      <th>2016-04-27</th>\n",
       "      <td>363.255648</td>\n",
       "      <td>515.081560</td>\n",
       "      <td>2215.478268</td>\n",
       "      <td>484.749677</td>\n",
       "      <td>44.254515</td>\n",
       "      <td>715.957394</td>\n",
       "      <td>217.277376</td>\n",
       "      <td>456.436310</td>\n",
       "      <td>437.419353</td>\n",
       "      <td>1861.032175</td>\n",
       "      <td>...</td>\n",
       "      <td>37.993373</td>\n",
       "      <td>986.736226</td>\n",
       "      <td>114.283498</td>\n",
       "      <td>314.904983</td>\n",
       "      <td>583.973031</td>\n",
       "      <td>1962.318287</td>\n",
       "      <td>226.077284</td>\n",
       "      <td>31.225447</td>\n",
       "      <td>768.883123</td>\n",
       "      <td>142.742774</td>\n",
       "    </tr>\n",
       "    <tr>\n",
       "      <th>2016-04-28</th>\n",
       "      <td>361.539127</td>\n",
       "      <td>507.535999</td>\n",
       "      <td>2244.265113</td>\n",
       "      <td>488.957582</td>\n",
       "      <td>44.254858</td>\n",
       "      <td>692.454335</td>\n",
       "      <td>243.423824</td>\n",
       "      <td>456.436310</td>\n",
       "      <td>496.258486</td>\n",
       "      <td>1757.233524</td>\n",
       "      <td>...</td>\n",
       "      <td>37.900110</td>\n",
       "      <td>1063.992773</td>\n",
       "      <td>103.736986</td>\n",
       "      <td>311.051820</td>\n",
       "      <td>519.515401</td>\n",
       "      <td>1822.280248</td>\n",
       "      <td>228.880689</td>\n",
       "      <td>31.627842</td>\n",
       "      <td>766.932482</td>\n",
       "      <td>134.298730</td>\n",
       "    </tr>\n",
       "    <tr>\n",
       "      <th>2016-04-29</th>\n",
       "      <td>360.418126</td>\n",
       "      <td>492.889686</td>\n",
       "      <td>2155.955146</td>\n",
       "      <td>490.071283</td>\n",
       "      <td>42.790042</td>\n",
       "      <td>743.598570</td>\n",
       "      <td>291.730230</td>\n",
       "      <td>456.436310</td>\n",
       "      <td>488.032210</td>\n",
       "      <td>1818.477531</td>\n",
       "      <td>...</td>\n",
       "      <td>38.019297</td>\n",
       "      <td>1054.528368</td>\n",
       "      <td>116.133667</td>\n",
       "      <td>321.531685</td>\n",
       "      <td>542.114637</td>\n",
       "      <td>1865.280564</td>\n",
       "      <td>222.935865</td>\n",
       "      <td>30.984470</td>\n",
       "      <td>768.839784</td>\n",
       "      <td>132.677501</td>\n",
       "    </tr>\n",
       "  </tbody>\n",
       "</table>\n",
       "<p>5 rows × 70 columns</p>\n",
       "</div>"
      ],
      "text/plain": [
       "            model_CA_1_FOODS_1  model_CA_1_FOODS_2  model_CA_1_FOODS_3  \\\n",
       "2016-04-25          342.307754          664.947651         2666.208185   \n",
       "2016-04-26          349.875503          580.474222         2222.852710   \n",
       "2016-04-27          363.255648          515.081560         2215.478268   \n",
       "2016-04-28          361.539127          507.535999         2244.265113   \n",
       "2016-04-29          360.418126          492.889686         2155.955146   \n",
       "\n",
       "            model_CA_1_HOBBIES_1  model_CA_1_HOBBIES_2  \\\n",
       "2016-04-25            520.967868             43.091422   \n",
       "2016-04-26            483.502143             44.450147   \n",
       "2016-04-27            484.749677             44.254515   \n",
       "2016-04-28            488.957582             44.254858   \n",
       "2016-04-29            490.071283             42.790042   \n",
       "\n",
       "            model_CA_1_HOUSEHOLD_1  model_CA_1_HOUSEHOLD_2  \\\n",
       "2016-04-25              957.246481              277.297283   \n",
       "2016-04-26              759.402074              236.746997   \n",
       "2016-04-27              715.957394              217.277376   \n",
       "2016-04-28              692.454335              243.423824   \n",
       "2016-04-29              743.598570              291.730230   \n",
       "\n",
       "            model_CA_2_FOODS_1  model_CA_2_FOODS_2  model_CA_2_FOODS_3  ...  \\\n",
       "2016-04-25          467.060182          488.249205         1808.552064  ...   \n",
       "2016-04-26          456.436310          463.630944         1595.547300  ...   \n",
       "2016-04-27          456.436310          437.419353         1861.032175  ...   \n",
       "2016-04-28          456.436310          496.258486         1757.233524  ...   \n",
       "2016-04-29          456.436310          488.032210         1818.477531  ...   \n",
       "\n",
       "            model_WI_2_HOBBIES_2  model_WI_2_HOUSEHOLD_1  \\\n",
       "2016-04-25             37.779956              887.904640   \n",
       "2016-04-26             37.898900              983.600808   \n",
       "2016-04-27             37.993373              986.736226   \n",
       "2016-04-28             37.900110             1063.992773   \n",
       "2016-04-29             38.019297             1054.528368   \n",
       "\n",
       "            model_WI_2_HOUSEHOLD_2  model_WI_3_FOODS_1  model_WI_3_FOODS_2  \\\n",
       "2016-04-25              146.754208          321.307356          517.227014   \n",
       "2016-04-26              120.673040          317.852484          517.026900   \n",
       "2016-04-27              114.283498          314.904983          583.973031   \n",
       "2016-04-28              103.736986          311.051820          519.515401   \n",
       "2016-04-29              116.133667          321.531685          542.114637   \n",
       "\n",
       "            model_WI_3_FOODS_3  model_WI_3_HOBBIES_1  model_WI_3_HOBBIES_2  \\\n",
       "2016-04-25         1863.223995            231.564485             31.005291   \n",
       "2016-04-26         1840.803849            218.223409             31.277465   \n",
       "2016-04-27         1962.318287            226.077284             31.225447   \n",
       "2016-04-28         1822.280248            228.880689             31.627842   \n",
       "2016-04-29         1865.280564            222.935865             30.984470   \n",
       "\n",
       "            model_WI_3_HOUSEHOLD_1  model_WI_3_HOUSEHOLD_2  \n",
       "2016-04-25              763.315111              170.666211  \n",
       "2016-04-26              771.320621              138.741621  \n",
       "2016-04-27              768.883123              142.742774  \n",
       "2016-04-28              766.932482              134.298730  \n",
       "2016-04-29              768.839784              132.677501  \n",
       "\n",
       "[5 rows x 70 columns]"
      ]
     },
     "execution_count": 60,
     "metadata": {},
     "output_type": "execute_result"
    }
   ],
   "source": [
    "total_forecast.head()"
   ]
  },
  {
   "attachments": {},
   "cell_type": "markdown",
   "metadata": {},
   "source": [
    "## Save forecast"
   ]
  },
  {
   "cell_type": "code",
   "execution_count": 61,
   "metadata": {},
   "outputs": [],
   "source": [
    "total_forecast.to_csv(\"./forecasted_data/sarimax_forecast.csv\", header=True)"
   ]
  }
 ],
 "metadata": {
  "kernelspec": {
   "display_name": "base",
   "language": "python",
   "name": "python3"
  },
  "language_info": {
   "codemirror_mode": {
    "name": "ipython",
    "version": 3
   },
   "file_extension": ".py",
   "mimetype": "text/x-python",
   "name": "python",
   "nbconvert_exporter": "python",
   "pygments_lexer": "ipython3",
   "version": "3.9.12"
  },
  "orig_nbformat": 4
 },
 "nbformat": 4,
 "nbformat_minor": 2
}
