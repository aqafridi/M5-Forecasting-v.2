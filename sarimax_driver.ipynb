{
 "cells": [
  {
   "cell_type": "code",
   "execution_count": 2,
   "metadata": {},
   "outputs": [],
   "source": [
    "import pandas as pd\n",
    "from transformer.DataAggregator import DataAggregator\n",
    "from transformer.Dataformator import DataFormator\n",
    "from transformer.ImputeMean import ImputeMean\n",
    "from transformer.TrainTestSplit import TrainTestSplit\n",
    "import utils\n",
    "import numpy as np\n",
    "import json\n",
    "\n",
    "from statsmodels.tsa.seasonal import seasonal_decompose\n",
    "from statsmodels.graphics.tsaplots import plot_acf, plot_pacf\n",
    "from statsmodels.tsa.stattools import adfuller\n",
    "from statsmodels.tsa.statespace.sarimax import SARIMAX\n",
    "import statsmodels.api as sm\n",
    "import math\n",
    "import statistics\n",
    "\n",
    "from hyperopt import fmin, hp, tpe, Trials,STATUS_OK\n",
    "from sklearn.metrics import mean_absolute_error\n",
    "from sklearn.multioutput import MultiOutputRegressor\n",
    "# from configs.space import space\n",
    "from hyperopt.pyll.base import scope"
   ]
  },
  {
   "cell_type": "markdown",
   "metadata": {},
   "source": [
    "## Data Loading"
   ]
  },
  {
   "cell_type": "code",
   "execution_count": 3,
   "metadata": {},
   "outputs": [],
   "source": [
    "sales = pd.read_csv(\"./data/sales_train_validation.csv\")\n",
    "calender =pd.read_csv(\"./data/calendar.csv\")"
   ]
  },
  {
   "attachments": {},
   "cell_type": "markdown",
   "metadata": {},
   "source": [
    "## Data Transformation"
   ]
  },
  {
   "cell_type": "code",
   "execution_count": 4,
   "metadata": {},
   "outputs": [
    {
     "name": "stderr",
     "output_type": "stream",
     "text": [
      "FutureWarning: The default value of numeric_only in DataFrameGroupBy.sum is deprecated. In a future version, numeric_only will default to False. Either specify numeric_only or select only columns which should be valid for the function.\n"
     ]
    }
   ],
   "source": [
    "data_aggregator = DataAggregator(sales)\n",
    "aggregated_data = data_aggregator.aggregate([\"store_id\",\"dept_id\"],\"sum\")\n",
    "data_formator =DataFormator(aggregated_data,calender)\n",
    "data = data_formator.format_data('store_id','dept_id')\n",
    "data.index.name='date'\n",
    "# impute_mean =ImputeMean(data)\n",
    "# data = impute_mean.replace_zero_with_mean()\n",
    "tts = TrainTestSplit( data, test_size=0.3, random_state=0,shuffle=False,stratify=None)\n",
    "X_train_, X_test_, y_train_, y_test_ = tts.split_data()\n",
    "y_train_.index.freq,y_test_.index.freq= 'd','d'"
   ]
  },
  {
   "cell_type": "code",
   "execution_count": 19,
   "metadata": {},
   "outputs": [],
   "source": [
    "train = y_train_['CA_1_FOODS_1'].astype('float')"
   ]
  },
  {
   "cell_type": "code",
   "execution_count": 20,
   "metadata": {},
   "outputs": [
    {
     "data": {
      "text/plain": [
       "array([297., 284., 214., ..., 321., 375., 359.])"
      ]
     },
     "execution_count": 20,
     "metadata": {},
     "output_type": "execute_result"
    }
   ],
   "source": [
    "train.values"
   ]
  },
  {
   "attachments": {},
   "cell_type": "markdown",
   "metadata": {},
   "source": [
    "## Training for best Parameters Model tuning"
   ]
  },
  {
   "attachments": {},
   "cell_type": "markdown",
   "metadata": {},
   "source": [
    "### Model Tuning"
   ]
  },
  {
   "cell_type": "code",
   "execution_count": 40,
   "metadata": {},
   "outputs": [],
   "source": [
    "space = {\n",
    "    'p': hp.choice('p', range(0, 3)),\n",
    "    'd': hp.choice('d', range(0, 3)),\n",
    "    'q': hp.choice('q', range(0, 3)),\n",
    "    'P': hp.choice('P', range(0, 3)),\n",
    "    'D': hp.choice('D', range(0, 3)),\n",
    "    'Q': hp.choice('Q', range(0, 3)),\n",
    "    'seasonal_order': hp.choice('seasonal_order', [(0,0,0,0), (1,0,0,12), (0,1,0,12), (0,0,1,12), (1,1,0,12), (1,0,1,12), (0,1,1,12), (1,1,1,12)])\n",
    "}"
   ]
  },
  {
   "cell_type": "code",
   "execution_count": 43,
   "metadata": {},
   "outputs": [
    {
     "name": "stdout",
     "output_type": "stream",
     "text": [
      "Training .......\n",
      " model_CA_1_FOODS_1 \n",
      "  0%|          | 0/3 [00:00<?, ?trial/s, best loss=?]"
     ]
    },
    {
     "name": "stderr",
     "output_type": "stream",
     "text": [
      "UserWarning: Non-invertible starting MA parameters found. Using zeros as starting parameters.\n",
      "\n"
     ]
    },
    {
     "name": "stdout",
     "output_type": "stream",
     "text": [
      "100%|██████████| 3/3 [00:17<00:00,  5.82s/trial, best loss: 72.0817381067558]\n",
      "{'D': 0, 'P': 2, 'Q': 1, 'd': 1, 'p': 1, 'q': 2, 'seasonal_order': 6}\n",
      "Training .......\n",
      " model_CA_1_FOODS_2 \n",
      "  0%|          | 0/3 [00:00<?, ?trial/s, best loss=?]"
     ]
    },
    {
     "name": "stderr",
     "output_type": "stream",
     "text": [
      "UserWarning: Non-invertible starting MA parameters found. Using zeros as starting parameters.\n",
      "\n"
     ]
    },
    {
     "name": "stdout",
     "output_type": "stream",
     "text": [
      " 33%|███▎      | 1/3 [00:01<00:02,  1.46s/trial, best loss: 140.99803744170333]"
     ]
    },
    {
     "name": "stderr",
     "output_type": "stream",
     "text": [
      "UserWarning: Non-invertible starting MA parameters found. Using zeros as starting parameters.\n",
      "\n"
     ]
    },
    {
     "name": "stdout",
     "output_type": "stream",
     "text": [
      " 67%|██████▋   | 2/3 [00:05<00:02,  2.93s/trial, best loss: 132.48850529503085]"
     ]
    },
    {
     "name": "stderr",
     "output_type": "stream",
     "text": [
      "UserWarning: Non-stationary starting autoregressive parameters found. Using zeros as starting parameters.\n",
      "\n",
      "UserWarning: Non-invertible starting MA parameters found. Using zeros as starting parameters.\n",
      "\n"
     ]
    },
    {
     "name": "stdout",
     "output_type": "stream",
     "text": [
      "100%|██████████| 3/3 [00:05<00:00,  1.98s/trial, best loss: 132.48850529503085]\n",
      "{'D': 2, 'P': 1, 'Q': 1, 'd': 1, 'p': 1, 'q': 2, 'seasonal_order': 0}\n",
      "Training .......\n",
      " model_CA_1_FOODS_3 \n",
      "100%|██████████| 3/3 [00:06<00:00,  2.26s/trial, best loss: 530.6613036151059]\n",
      "{'D': 1, 'P': 1, 'Q': 0, 'd': 0, 'p': 1, 'q': 1, 'seasonal_order': 7}\n",
      "Training .......\n",
      " model_CA_1_HOBBIES_1 \n",
      " 33%|███▎      | 1/3 [00:00<00:00,  2.67trial/s, best loss: 284310.8983424386]"
     ]
    },
    {
     "name": "stderr",
     "output_type": "stream",
     "text": [
      "ConvergenceWarning: Maximum Likelihood optimization failed to converge. Check mle_retvals\n",
      "\n"
     ]
    },
    {
     "name": "stdout",
     "output_type": "stream",
     "text": [
      "100%|██████████| 3/3 [00:10<00:00,  3.54s/trial, best loss: 84.62399823103513]\n",
      "{'D': 0, 'P': 2, 'Q': 2, 'd': 0, 'p': 0, 'q': 1, 'seasonal_order': 2}\n",
      "Training .......\n",
      " model_CA_1_HOBBIES_2 \n",
      "100%|██████████| 3/3 [00:04<00:00,  1.35s/trial, best loss: 14.458840802861207]\n",
      "{'D': 1, 'P': 1, 'Q': 1, 'd': 1, 'p': 1, 'q': 2, 'seasonal_order': 2}\n",
      "Training .......\n",
      " model_CA_1_HOUSEHOLD_1 \n",
      "100%|██████████| 3/3 [00:09<00:00,  3.17s/trial, best loss: 161.91924013600342]\n",
      "{'D': 1, 'P': 1, 'Q': 1, 'd': 0, 'p': 1, 'q': 0, 'seasonal_order': 5}\n",
      "Training .......\n",
      " model_CA_1_HOUSEHOLD_2 \n",
      "100%|██████████| 3/3 [00:03<00:00,  1.12s/trial, best loss: 45.07852627234246]\n",
      "{'D': 0, 'P': 0, 'Q': 2, 'd': 1, 'p': 0, 'q': 0, 'seasonal_order': 4}\n",
      "Training .......\n",
      " model_CA_2_FOODS_1 \n",
      " 67%|██████▋   | 2/3 [00:14<00:06,  6.46s/trial, best loss: 99.0053712951549]  "
     ]
    },
    {
     "name": "stderr",
     "output_type": "stream",
     "text": [
      "UserWarning: Non-stationary starting autoregressive parameters found. Using zeros as starting parameters.\n",
      "\n",
      "UserWarning: Non-invertible starting MA parameters found. Using zeros as starting parameters.\n",
      "\n"
     ]
    },
    {
     "name": "stdout",
     "output_type": "stream",
     "text": [
      "100%|██████████| 3/3 [00:16<00:00,  5.41s/trial, best loss: 97.11860276750191]\n",
      "{'D': 0, 'P': 0, 'Q': 1, 'd': 0, 'p': 2, 'q': 2, 'seasonal_order': 7}\n",
      "Training .......\n",
      " model_CA_2_FOODS_2 \n",
      "  0%|          | 0/3 [00:00<?, ?trial/s, best loss=?]"
     ]
    },
    {
     "name": "stderr",
     "output_type": "stream",
     "text": [
      "ConvergenceWarning: Maximum Likelihood optimization failed to converge. Check mle_retvals\n",
      "\n"
     ]
    },
    {
     "name": "stdout",
     "output_type": "stream",
     "text": [
      " 33%|███▎      | 1/3 [00:01<00:03,  1.53s/trial, best loss: 164.86312264484584]"
     ]
    },
    {
     "name": "stderr",
     "output_type": "stream",
     "text": [
      "UserWarning: Non-invertible starting seasonal moving average Using zeros as starting parameters.\n",
      "\n"
     ]
    },
    {
     "name": "stdout",
     "output_type": "stream",
     "text": [
      " 67%|██████▋   | 2/3 [00:27<00:15, 15.70s/trial, best loss: 164.86312264484584]"
     ]
    },
    {
     "name": "stderr",
     "output_type": "stream",
     "text": [
      "UserWarning: Non-invertible starting MA parameters found. Using zeros as starting parameters.\n",
      "\n",
      "ConvergenceWarning: Maximum Likelihood optimization failed to converge. Check mle_retvals\n",
      "\n"
     ]
    },
    {
     "name": "stdout",
     "output_type": "stream",
     "text": [
      "100%|██████████| 3/3 [00:33<00:00, 11.10s/trial, best loss: 164.86312264484584]\n",
      "{'D': 1, 'P': 2, 'Q': 0, 'd': 2, 'p': 0, 'q': 1, 'seasonal_order': 0}\n",
      "Training .......\n",
      " model_CA_2_FOODS_3 \n",
      " 33%|███▎      | 1/3 [00:01<00:02,  1.00s/trial, best loss: 20420.49193714396]"
     ]
    },
    {
     "name": "stderr",
     "output_type": "stream",
     "text": [
      "ConvergenceWarning: Maximum Likelihood optimization failed to converge. Check mle_retvals\n",
      "\n"
     ]
    },
    {
     "name": "stdout",
     "output_type": "stream",
     "text": [
      "100%|██████████| 3/3 [00:06<00:00,  2.06s/trial, best loss: 409.35436614799016]\n",
      "{'D': 0, 'P': 0, 'Q': 0, 'd': 2, 'p': 0, 'q': 1, 'seasonal_order': 4}\n",
      "Training .......\n",
      " model_CA_2_HOBBIES_1 \n",
      "  0%|          | 0/3 [00:00<?, ?trial/s, best loss=?]"
     ]
    },
    {
     "name": "stderr",
     "output_type": "stream",
     "text": [
      "UserWarning: Non-invertible starting MA parameters found. Using zeros as starting parameters.\n",
      "\n"
     ]
    },
    {
     "name": "stdout",
     "output_type": "stream",
     "text": [
      " 33%|███▎      | 1/3 [00:18<00:36, 18.32s/trial, best loss: 123.91231083038761]"
     ]
    },
    {
     "name": "stderr",
     "output_type": "stream",
     "text": [
      "UserWarning: Non-invertible starting MA parameters found. Using zeros as starting parameters.\n",
      "\n",
      "UserWarning: Non-invertible starting seasonal moving average Using zeros as starting parameters.\n",
      "\n"
     ]
    },
    {
     "name": "stdout",
     "output_type": "stream",
     "text": [
      "100%|██████████| 3/3 [00:25<00:00,  8.46s/trial, best loss: 123.91231083038761]\n",
      "{'D': 2, 'P': 2, 'Q': 1, 'd': 0, 'p': 1, 'q': 2, 'seasonal_order': 2}\n",
      "Training .......\n",
      " model_CA_2_HOBBIES_2 \n",
      " 33%|███▎      | 1/3 [00:04<00:08,  4.25s/trial, best loss: 14.603281871154197]"
     ]
    },
    {
     "name": "stderr",
     "output_type": "stream",
     "text": [
      "UserWarning: Non-invertible starting seasonal moving average Using zeros as starting parameters.\n",
      "\n"
     ]
    },
    {
     "name": "stdout",
     "output_type": "stream",
     "text": [
      " 67%|██████▋   | 2/3 [00:17<00:09,  9.50s/trial, best loss: 14.603281871154197]"
     ]
    },
    {
     "name": "stderr",
     "output_type": "stream",
     "text": [
      "UserWarning: Non-stationary starting autoregressive parameters found. Using zeros as starting parameters.\n",
      "\n",
      "UserWarning: Non-invertible starting MA parameters found. Using zeros as starting parameters.\n",
      "\n",
      "ConvergenceWarning: Maximum Likelihood optimization failed to converge. Check mle_retvals\n",
      "\n"
     ]
    },
    {
     "name": "stdout",
     "output_type": "stream",
     "text": [
      "100%|██████████| 3/3 [00:23<00:00,  7.94s/trial, best loss: 14.603281871154197]\n",
      "{'D': 1, 'P': 2, 'Q': 1, 'd': 2, 'p': 1, 'q': 1, 'seasonal_order': 6}\n",
      "Training .......\n",
      " model_CA_2_HOUSEHOLD_1 \n",
      "  0%|          | 0/3 [00:00<?, ?trial/s, best loss=?]"
     ]
    },
    {
     "name": "stderr",
     "output_type": "stream",
     "text": [
      "UserWarning: Non-invertible starting seasonal moving average Using zeros as starting parameters.\n",
      "\n"
     ]
    },
    {
     "name": "stdout",
     "output_type": "stream",
     "text": [
      " 33%|███▎      | 1/3 [00:17<00:34, 17.01s/trial, best loss: 176.76936088858685]"
     ]
    },
    {
     "name": "stderr",
     "output_type": "stream",
     "text": [
      "UserWarning: Non-invertible starting MA parameters found. Using zeros as starting parameters.\n",
      "\n"
     ]
    },
    {
     "name": "stdout",
     "output_type": "stream",
     "text": [
      "100%|██████████| 3/3 [00:26<00:00,  8.97s/trial, best loss: 176.76936088858685]\n",
      "{'D': 2, 'P': 1, 'Q': 2, 'd': 0, 'p': 2, 'q': 0, 'seasonal_order': 7}\n",
      "Training .......\n",
      " model_CA_2_HOUSEHOLD_2 \n",
      "100%|██████████| 3/3 [00:15<00:00,  5.27s/trial, best loss: 70.67909934298297]\n",
      "{'D': 1, 'P': 0, 'Q': 1, 'd': 0, 'p': 2, 'q': 0, 'seasonal_order': 0}\n",
      "Training .......\n",
      " model_CA_3_FOODS_1 \n",
      " 33%|███▎      | 1/3 [00:00<00:01,  1.79trial/s, best loss: 87.70283239982086]"
     ]
    },
    {
     "name": "stderr",
     "output_type": "stream",
     "text": [
      "UserWarning: Non-stationary starting autoregressive parameters found. Using zeros as starting parameters.\n",
      "\n",
      "UserWarning: Non-invertible starting MA parameters found. Using zeros as starting parameters.\n",
      "\n",
      "ConvergenceWarning: Maximum Likelihood optimization failed to converge. Check mle_retvals\n",
      "\n"
     ]
    },
    {
     "name": "stdout",
     "output_type": "stream",
     "text": [
      "100%|██████████| 3/3 [00:10<00:00,  3.45s/trial, best loss: 77.35560161099293]\n",
      "{'D': 0, 'P': 1, 'Q': 0, 'd': 0, 'p': 1, 'q': 2, 'seasonal_order': 2}\n",
      "Training .......\n",
      " model_CA_3_FOODS_2 \n",
      "  0%|          | 0/3 [00:00<?, ?trial/s, best loss=?]"
     ]
    },
    {
     "name": "stderr",
     "output_type": "stream",
     "text": [
      "UserWarning: Non-invertible starting MA parameters found. Using zeros as starting parameters.\n",
      "\n"
     ]
    },
    {
     "name": "stdout",
     "output_type": "stream",
     "text": [
      " 33%|███▎      | 1/3 [00:05<00:11,  5.57s/trial, best loss: 93.40810606330243]"
     ]
    },
    {
     "name": "stderr",
     "output_type": "stream",
     "text": [
      "ConvergenceWarning: Maximum Likelihood optimization failed to converge. Check mle_retvals\n",
      "\n"
     ]
    },
    {
     "name": "stdout",
     "output_type": "stream",
     "text": [
      " 67%|██████▋   | 2/3 [00:16<00:08,  8.81s/trial, best loss: 93.40810606330243]"
     ]
    },
    {
     "name": "stderr",
     "output_type": "stream",
     "text": [
      "UserWarning: Non-stationary starting autoregressive parameters found. Using zeros as starting parameters.\n",
      "\n",
      "UserWarning: Non-invertible starting MA parameters found. Using zeros as starting parameters.\n",
      "\n",
      "UserWarning: Non-invertible starting seasonal moving average Using zeros as starting parameters.\n",
      "\n"
     ]
    },
    {
     "name": "stdout",
     "output_type": "stream",
     "text": [
      "100%|██████████| 3/3 [00:18<00:00,  6.30s/trial, best loss: 93.40810606330243]\n",
      "{'D': 0, 'P': 2, 'Q': 2, 'd': 1, 'p': 2, 'q': 2, 'seasonal_order': 2}\n",
      "Training .......\n",
      " model_CA_3_FOODS_3 \n",
      " 33%|███▎      | 1/3 [00:06<00:12,  6.39s/trial, best loss: 114744.79779341872]"
     ]
    },
    {
     "name": "stderr",
     "output_type": "stream",
     "text": [
      "UserWarning: Non-invertible starting MA parameters found. Using zeros as starting parameters.\n",
      "\n"
     ]
    },
    {
     "name": "stdout",
     "output_type": "stream",
     "text": [
      "100%|██████████| 3/3 [00:08<00:00,  2.88s/trial, best loss: 927.9852556425175] \n",
      "{'D': 0, 'P': 0, 'Q': 1, 'd': 1, 'p': 2, 'q': 2, 'seasonal_order': 1}\n",
      "Training .......\n",
      " model_CA_3_HOBBIES_1 \n",
      " 33%|███▎      | 1/3 [00:01<00:02,  1.33s/trial, best loss: 95.1652515396912]"
     ]
    },
    {
     "name": "stderr",
     "output_type": "stream",
     "text": [
      "UserWarning: Non-invertible starting seasonal moving average Using zeros as starting parameters.\n",
      "\n"
     ]
    },
    {
     "name": "stdout",
     "output_type": "stream",
     "text": [
      "100%|██████████| 3/3 [00:07<00:00,  2.62s/trial, best loss: 95.1652515396912]\n",
      "{'D': 0, 'P': 2, 'Q': 0, 'd': 2, 'p': 1, 'q': 1, 'seasonal_order': 7}\n",
      "Training .......\n",
      " model_CA_3_HOBBIES_2 \n",
      "  0%|          | 0/3 [00:00<?, ?trial/s, best loss=?]"
     ]
    },
    {
     "name": "stderr",
     "output_type": "stream",
     "text": [
      "ConvergenceWarning: Maximum Likelihood optimization failed to converge. Check mle_retvals\n",
      "\n"
     ]
    },
    {
     "name": "stdout",
     "output_type": "stream",
     "text": [
      "100%|██████████| 3/3 [00:45<00:00, 15.30s/trial, best loss: 27.321452720591513]\n",
      "{'D': 0, 'P': 2, 'Q': 0, 'd': 2, 'p': 1, 'q': 1, 'seasonal_order': 5}\n",
      "Training .......\n",
      " model_CA_3_HOUSEHOLD_1 \n",
      "100%|██████████| 3/3 [00:06<00:00,  2.07s/trial, best loss: 313.62118394179544]\n",
      "{'D': 2, 'P': 1, 'Q': 1, 'd': 1, 'p': 2, 'q': 1, 'seasonal_order': 3}\n",
      "Training .......\n",
      " model_CA_3_HOUSEHOLD_2 \n",
      "  0%|          | 0/3 [00:00<?, ?trial/s, best loss=?]"
     ]
    },
    {
     "name": "stderr",
     "output_type": "stream",
     "text": [
      "UserWarning: Non-invertible starting MA parameters found. Using zeros as starting parameters.\n",
      "\n",
      "UserWarning: Non-invertible starting seasonal moving average Using zeros as starting parameters.\n",
      "\n"
     ]
    },
    {
     "name": "stdout",
     "output_type": "stream",
     "text": [
      " 33%|███▎      | 1/3 [00:18<00:36, 18.11s/trial, best loss: 81.12727898276418]"
     ]
    },
    {
     "name": "stderr",
     "output_type": "stream",
     "text": [
      "UserWarning: Non-invertible starting MA parameters found. Using zeros as starting parameters.\n",
      "\n",
      "ConvergenceWarning: Maximum Likelihood optimization failed to converge. Check mle_retvals\n",
      "\n"
     ]
    },
    {
     "name": "stdout",
     "output_type": "stream",
     "text": [
      "100%|██████████| 3/3 [00:40<00:00, 13.50s/trial, best loss: 69.21051329626508]\n",
      "{'D': 1, 'P': 2, 'Q': 2, 'd': 2, 'p': 0, 'q': 2, 'seasonal_order': 7}\n",
      "Training .......\n",
      " model_CA_4_FOODS_1 \n",
      " 33%|███▎      | 1/3 [00:00<00:01,  1.09trial/s, best loss: 38.00453393528414]"
     ]
    },
    {
     "name": "stderr",
     "output_type": "stream",
     "text": [
      "UserWarning: Non-invertible starting seasonal moving average Using zeros as starting parameters.\n",
      "\n"
     ]
    },
    {
     "name": "stdout",
     "output_type": "stream",
     "text": [
      "100%|██████████| 3/3 [00:14<00:00,  4.75s/trial, best loss: 38.00453393528414]\n",
      "{'D': 1, 'P': 2, 'Q': 0, 'd': 0, 'p': 1, 'q': 0, 'seasonal_order': 6}\n",
      "Training .......\n",
      " model_CA_4_FOODS_2 \n",
      "100%|██████████| 3/3 [00:10<00:00,  3.58s/trial, best loss: 71.36286795893687] \n",
      "{'D': 1, 'P': 1, 'Q': 2, 'd': 0, 'p': 2, 'q': 0, 'seasonal_order': 2}\n",
      "Training .......\n",
      " model_CA_4_FOODS_3 \n",
      " 33%|███▎      | 1/3 [00:03<00:07,  3.78s/trial, best loss: 305.95375671416264]"
     ]
    },
    {
     "name": "stderr",
     "output_type": "stream",
     "text": [
      "UserWarning: Non-stationary starting autoregressive parameters found. Using zeros as starting parameters.\n",
      "\n",
      "UserWarning: Non-invertible starting MA parameters found. Using zeros as starting parameters.\n",
      "\n"
     ]
    },
    {
     "name": "stdout",
     "output_type": "stream",
     "text": [
      "100%|██████████| 3/3 [00:20<00:00,  6.91s/trial, best loss: 303.8274839305998] \n",
      "{'D': 0, 'P': 1, 'Q': 0, 'd': 1, 'p': 0, 'q': 0, 'seasonal_order': 2}\n",
      "Training .......\n",
      " model_CA_4_HOBBIES_1 \n",
      "  0%|          | 0/3 [00:00<?, ?trial/s, best loss=?]"
     ]
    },
    {
     "name": "stderr",
     "output_type": "stream",
     "text": [
      "ConvergenceWarning: Maximum Likelihood optimization failed to converge. Check mle_retvals\n",
      "\n"
     ]
    },
    {
     "name": "stdout",
     "output_type": "stream",
     "text": [
      " 33%|███▎      | 1/3 [00:18<00:36, 18.42s/trial, best loss: 66.86792023668052]"
     ]
    },
    {
     "name": "stderr",
     "output_type": "stream",
     "text": [
      "UserWarning: Non-stationary starting autoregressive parameters found. Using zeros as starting parameters.\n",
      "\n"
     ]
    },
    {
     "name": "stdout",
     "output_type": "stream",
     "text": [
      "100%|██████████| 3/3 [00:28<00:00,  9.40s/trial, best loss: 66.86792023668052]\n",
      "{'D': 2, 'P': 0, 'Q': 2, 'd': 0, 'p': 1, 'q': 2, 'seasonal_order': 5}\n",
      "Training .......\n",
      " model_CA_4_HOBBIES_2 \n",
      "100%|██████████| 3/3 [00:01<00:00,  1.55trial/s, best loss: 8.416283600820497]\n",
      "{'D': 1, 'P': 1, 'Q': 0, 'd': 0, 'p': 0, 'q': 1, 'seasonal_order': 1}\n",
      "Training .......\n",
      " model_CA_4_HOUSEHOLD_1 \n",
      "  0%|          | 0/3 [00:00<?, ?trial/s, best loss=?]"
     ]
    },
    {
     "name": "stderr",
     "output_type": "stream",
     "text": [
      "UserWarning: Non-stationary starting autoregressive parameters found. Using zeros as starting parameters.\n",
      "\n",
      "UserWarning: Non-invertible starting MA parameters found. Using zeros as starting parameters.\n",
      "\n"
     ]
    },
    {
     "name": "stdout",
     "output_type": "stream",
     "text": [
      "100%|██████████| 3/3 [00:04<00:00,  1.47s/trial, best loss: 51.685001059764296]\n",
      "{'D': 1, 'P': 2, 'Q': 1, 'd': 0, 'p': 2, 'q': 0, 'seasonal_order': 0}\n",
      "Training .......\n",
      " model_CA_4_HOUSEHOLD_2 \n",
      "  0%|          | 0/3 [00:00<?, ?trial/s, best loss=?]"
     ]
    },
    {
     "name": "stderr",
     "output_type": "stream",
     "text": [
      "ConvergenceWarning: Maximum Likelihood optimization failed to converge. Check mle_retvals\n",
      "\n"
     ]
    },
    {
     "name": "stdout",
     "output_type": "stream",
     "text": [
      " 67%|██████▋   | 2/3 [00:07<00:03,  3.36s/trial, best loss: 18.356269919054288]"
     ]
    },
    {
     "name": "stderr",
     "output_type": "stream",
     "text": [
      "UserWarning: Non-invertible starting MA parameters found. Using zeros as starting parameters.\n",
      "\n"
     ]
    },
    {
     "name": "stdout",
     "output_type": "stream",
     "text": [
      "100%|██████████| 3/3 [00:07<00:00,  2.65s/trial, best loss: 18.356269919054288]\n",
      "{'D': 0, 'P': 1, 'Q': 2, 'd': 0, 'p': 2, 'q': 2, 'seasonal_order': 6}\n",
      "Training .......\n",
      " model_TX_1_FOODS_1 \n",
      "100%|██████████| 3/3 [00:10<00:00,  3.52s/trial, best loss: 44.227934678927994]\n",
      "{'D': 0, 'P': 1, 'Q': 1, 'd': 2, 'p': 1, 'q': 1, 'seasonal_order': 2}\n",
      "Training .......\n",
      " model_TX_1_FOODS_2 \n",
      " 33%|███▎      | 1/3 [00:08<00:16,  8.16s/trial, best loss: 666.187256248635]"
     ]
    },
    {
     "name": "stderr",
     "output_type": "stream",
     "text": [
      "ConvergenceWarning: Maximum Likelihood optimization failed to converge. Check mle_retvals\n",
      "\n"
     ]
    },
    {
     "name": "stdout",
     "output_type": "stream",
     "text": [
      "100%|██████████| 3/3 [00:42<00:00, 14.08s/trial, best loss: 69.64011959244004]\n",
      "{'D': 2, 'P': 2, 'Q': 1, 'd': 0, 'p': 2, 'q': 2, 'seasonal_order': 4}\n",
      "Training .......\n",
      " model_TX_1_FOODS_3 \n",
      "  0%|          | 0/3 [00:00<?, ?trial/s, best loss=?]"
     ]
    },
    {
     "name": "stderr",
     "output_type": "stream",
     "text": [
      "UserWarning: Non-stationary starting autoregressive parameters found. Using zeros as starting parameters.\n",
      "\n",
      "UserWarning: Non-invertible starting MA parameters found. Using zeros as starting parameters.\n",
      "\n",
      "ConvergenceWarning: Maximum Likelihood optimization failed to converge. Check mle_retvals\n",
      "\n"
     ]
    },
    {
     "name": "stdout",
     "output_type": "stream",
     "text": [
      "100%|██████████| 3/3 [00:22<00:00,  7.56s/trial, best loss: 290.6242015103671]\n",
      "{'D': 1, 'P': 2, 'Q': 0, 'd': 1, 'p': 1, 'q': 1, 'seasonal_order': 6}\n",
      "Training .......\n",
      " model_TX_1_HOBBIES_1 \n",
      "  0%|          | 0/3 [00:00<?, ?trial/s, best loss=?]"
     ]
    },
    {
     "name": "stderr",
     "output_type": "stream",
     "text": [
      "UserWarning: Non-invertible starting MA parameters found. Using zeros as starting parameters.\n",
      "\n"
     ]
    },
    {
     "name": "stdout",
     "output_type": "stream",
     "text": [
      " 67%|██████▋   | 2/3 [00:15<00:06,  6.48s/trial, best loss: 56.96029854073836]"
     ]
    },
    {
     "name": "stderr",
     "output_type": "stream",
     "text": [
      "UserWarning: Non-invertible starting MA parameters found. Using zeros as starting parameters.\n",
      "\n",
      "ConvergenceWarning: Maximum Likelihood optimization failed to converge. Check mle_retvals\n",
      "\n"
     ]
    },
    {
     "name": "stdout",
     "output_type": "stream",
     "text": [
      "100%|██████████| 3/3 [00:20<00:00,  6.95s/trial, best loss: 56.96029854073836]\n",
      "{'D': 0, 'P': 0, 'Q': 0, 'd': 1, 'p': 0, 'q': 2, 'seasonal_order': 7}\n",
      "Training .......\n",
      " model_TX_1_HOBBIES_2 \n",
      "100%|██████████| 3/3 [00:05<00:00,  1.75s/trial, best loss: 17.775665675987074]\n",
      "{'D': 1, 'P': 2, 'Q': 2, 'd': 0, 'p': 1, 'q': 2, 'seasonal_order': 4}\n",
      "Training .......\n",
      " model_TX_1_HOUSEHOLD_1 \n",
      " 33%|███▎      | 1/3 [00:01<00:02,  1.19s/trial, best loss: 116.65494092918468]"
     ]
    },
    {
     "name": "stderr",
     "output_type": "stream",
     "text": [
      "UserWarning: Non-stationary starting autoregressive parameters found. Using zeros as starting parameters.\n",
      "\n",
      "UserWarning: Non-invertible starting MA parameters found. Using zeros as starting parameters.\n",
      "\n"
     ]
    },
    {
     "name": "stdout",
     "output_type": "stream",
     "text": [
      " 67%|██████▋   | 2/3 [00:03<00:02,  2.01s/trial, best loss: 116.65494092918468]"
     ]
    },
    {
     "name": "stderr",
     "output_type": "stream",
     "text": [
      "ConvergenceWarning: Maximum Likelihood optimization failed to converge. Check mle_retvals\n",
      "\n",
      "UserWarning: Non-invertible starting seasonal moving average Using zeros as starting parameters.\n",
      "\n"
     ]
    },
    {
     "name": "stdout",
     "output_type": "stream",
     "text": [
      "100%|██████████| 3/3 [00:04<00:00,  1.56s/trial, best loss: 116.65494092918468]\n",
      "{'D': 0, 'P': 2, 'Q': 0, 'd': 2, 'p': 0, 'q': 1, 'seasonal_order': 3}\n",
      "Training .......\n",
      " model_TX_1_HOUSEHOLD_2 \n",
      "100%|██████████| 3/3 [00:01<00:00,  1.82trial/s, best loss: 29.508601226838056]\n",
      "{'D': 0, 'P': 1, 'Q': 1, 'd': 1, 'p': 1, 'q': 0, 'seasonal_order': 7}\n",
      "Training .......\n",
      " model_TX_2_FOODS_1 \n",
      "100%|██████████| 3/3 [00:04<00:00,  1.47s/trial, best loss: 44.85660855244423]\n",
      "{'D': 1, 'P': 1, 'Q': 1, 'd': 0, 'p': 2, 'q': 0, 'seasonal_order': 7}\n",
      "Training .......\n",
      " model_TX_2_FOODS_2 \n",
      "100%|██████████| 3/3 [00:21<00:00,  7.04s/trial, best loss: 71.95417512007643]\n",
      "{'D': 1, 'P': 0, 'Q': 2, 'd': 2, 'p': 1, 'q': 1, 'seasonal_order': 4}\n",
      "Training .......\n",
      " model_TX_2_FOODS_3 \n",
      "100%|██████████| 3/3 [00:05<00:00,  1.70s/trial, best loss: 467.8759407221494]\n",
      "{'D': 1, 'P': 2, 'Q': 1, 'd': 1, 'p': 1, 'q': 0, 'seasonal_order': 2}\n",
      "Training .......\n",
      " model_TX_2_HOBBIES_1 \n",
      " 33%|███▎      | 1/3 [00:00<00:00,  4.23trial/s, best loss: 72.69433182755068]"
     ]
    },
    {
     "name": "stderr",
     "output_type": "stream",
     "text": [
      "UserWarning: Non-stationary starting autoregressive parameters found. Using zeros as starting parameters.\n",
      "\n",
      "UserWarning: Non-invertible starting MA parameters found. Using zeros as starting parameters.\n",
      "\n"
     ]
    },
    {
     "name": "stdout",
     "output_type": "stream",
     "text": [
      "100%|██████████| 3/3 [00:01<00:00,  1.57trial/s, best loss: 72.69433182755068]\n",
      "{'D': 0, 'P': 0, 'Q': 0, 'd': 1, 'p': 1, 'q': 1, 'seasonal_order': 3}\n",
      "Training .......\n",
      " model_TX_2_HOBBIES_2 \n",
      "100%|██████████| 3/3 [00:04<00:00,  1.65s/trial, best loss: 15.942573786716656]"
     ]
    },
    {
     "name": "stderr",
     "output_type": "stream",
     "text": [
      "ConvergenceWarning: Maximum Likelihood optimization failed to converge. Check mle_retvals\n",
      "\n"
     ]
    },
    {
     "name": "stdout",
     "output_type": "stream",
     "text": [
      "100%|██████████| 3/3 [00:04<00:00,  1.35s/trial, best loss: 15.942573786716656]\n",
      "{'D': 0, 'P': 1, 'Q': 2, 'd': 1, 'p': 2, 'q': 2, 'seasonal_order': 0}\n",
      "Training .......\n",
      " model_TX_2_HOUSEHOLD_1 \n",
      "100%|██████████| 3/3 [00:03<00:00,  1.28s/trial, best loss: 132.1735707404608]\n",
      "{'D': 0, 'P': 1, 'Q': 2, 'd': 2, 'p': 0, 'q': 1, 'seasonal_order': 2}\n",
      "Training .......\n",
      " model_TX_2_HOUSEHOLD_2 \n",
      "100%|██████████| 3/3 [00:16<00:00,  5.46s/trial, best loss: 35.27678423278795]\n",
      "{'D': 0, 'P': 1, 'Q': 2, 'd': 1, 'p': 2, 'q': 0, 'seasonal_order': 7}\n",
      "Training .......\n",
      " model_TX_3_FOODS_1 \n",
      " 67%|██████▋   | 2/3 [00:04<00:02,  2.21s/trial, best loss: 132.2201322015423]"
     ]
    },
    {
     "name": "stderr",
     "output_type": "stream",
     "text": [
      "UserWarning: Non-stationary starting autoregressive parameters found. Using zeros as starting parameters.\n",
      "\n",
      "UserWarning: Non-invertible starting MA parameters found. Using zeros as starting parameters.\n",
      "\n",
      "ConvergenceWarning: Maximum Likelihood optimization failed to converge. Check mle_retvals\n",
      "\n"
     ]
    },
    {
     "name": "stdout",
     "output_type": "stream",
     "text": [
      "100%|██████████| 3/3 [00:11<00:00,  3.92s/trial, best loss: 77.75186886982141]\n",
      "{'D': 1, 'P': 2, 'Q': 2, 'd': 0, 'p': 2, 'q': 1, 'seasonal_order': 2}\n",
      "Training .......\n",
      " model_TX_3_FOODS_2 \n",
      "100%|██████████| 3/3 [00:05<00:00,  1.72s/trial, best loss: 80.56715847727226]\n",
      "{'D': 1, 'P': 0, 'Q': 1, 'd': 2, 'p': 0, 'q': 2, 'seasonal_order': 2}\n",
      "Training .......\n",
      " model_TX_3_FOODS_3 \n",
      "  0%|          | 0/3 [00:00<?, ?trial/s, best loss=?]"
     ]
    },
    {
     "name": "stderr",
     "output_type": "stream",
     "text": [
      "UserWarning: Non-stationary starting autoregressive parameters found. Using zeros as starting parameters.\n",
      "\n",
      "UserWarning: Non-invertible starting MA parameters found. Using zeros as starting parameters.\n",
      "\n"
     ]
    },
    {
     "name": "stdout",
     "output_type": "stream",
     "text": [
      " 33%|███▎      | 1/3 [00:03<00:06,  3.38s/trial, best loss: 311.978442041179]"
     ]
    },
    {
     "name": "stderr",
     "output_type": "stream",
     "text": [
      "UserWarning: Non-invertible starting MA parameters found. Using zeros as starting parameters.\n",
      "\n"
     ]
    },
    {
     "name": "stdout",
     "output_type": "stream",
     "text": [
      "100%|██████████| 3/3 [00:33<00:00, 11.30s/trial, best loss: 311.978442041179]\n",
      "{'D': 1, 'P': 0, 'Q': 1, 'd': 1, 'p': 2, 'q': 2, 'seasonal_order': 5}\n",
      "Training .......\n",
      " model_TX_3_HOBBIES_1 \n",
      " 33%|███▎      | 1/3 [00:04<00:08,  4.15s/trial, best loss: 93.89377048921037]"
     ]
    },
    {
     "name": "stderr",
     "output_type": "stream",
     "text": [
      "UserWarning: Non-invertible starting MA parameters found. Using zeros as starting parameters.\n",
      "\n"
     ]
    },
    {
     "name": "stdout",
     "output_type": "stream",
     "text": [
      " 67%|██████▋   | 2/3 [00:05<00:02,  2.50s/trial, best loss: 83.9663917693174] "
     ]
    },
    {
     "name": "stderr",
     "output_type": "stream",
     "text": [
      "UserWarning: Non-stationary starting autoregressive parameters found. Using zeros as starting parameters.\n",
      "\n",
      "UserWarning: Non-invertible starting MA parameters found. Using zeros as starting parameters.\n",
      "\n",
      "ConvergenceWarning: Maximum Likelihood optimization failed to converge. Check mle_retvals\n",
      "\n"
     ]
    },
    {
     "name": "stdout",
     "output_type": "stream",
     "text": [
      "100%|██████████| 3/3 [00:13<00:00,  4.48s/trial, best loss: 72.22535571254615]\n",
      "{'D': 1, 'P': 2, 'Q': 2, 'd': 0, 'p': 2, 'q': 1, 'seasonal_order': 2}\n",
      "Training .......\n",
      " model_TX_3_HOBBIES_2 \n",
      " 33%|███▎      | 1/3 [00:00<00:01,  1.39trial/s, best loss: 17.646347662099743]"
     ]
    },
    {
     "name": "stderr",
     "output_type": "stream",
     "text": [
      "UserWarning: Non-invertible starting seasonal moving average Using zeros as starting parameters.\n",
      "\n",
      "ConvergenceWarning: Maximum Likelihood optimization failed to converge. Check mle_retvals\n",
      "\n"
     ]
    },
    {
     "name": "stdout",
     "output_type": "stream",
     "text": [
      " 67%|██████▋   | 2/3 [00:24<00:14, 14.26s/trial, best loss: 17.646347662099743]"
     ]
    },
    {
     "name": "stderr",
     "output_type": "stream",
     "text": [
      "ConvergenceWarning: Maximum Likelihood optimization failed to converge. Check mle_retvals\n",
      "\n"
     ]
    },
    {
     "name": "stdout",
     "output_type": "stream",
     "text": [
      "100%|██████████| 3/3 [00:27<00:00,  9.23s/trial, best loss: 17.646347662099743]\n",
      "{'D': 0, 'P': 0, 'Q': 0, 'd': 2, 'p': 0, 'q': 2, 'seasonal_order': 6}\n",
      "Training .......\n",
      " model_TX_3_HOUSEHOLD_1 \n",
      "100%|██████████| 3/3 [00:19<00:00,  6.39s/trial, best loss: 128.896624353389]\n",
      "{'D': 2, 'P': 0, 'Q': 2, 'd': 2, 'p': 1, 'q': 1, 'seasonal_order': 6}\n",
      "Training .......\n",
      " model_TX_3_HOUSEHOLD_2 \n",
      "  0%|          | 0/3 [00:00<?, ?trial/s, best loss=?]"
     ]
    },
    {
     "name": "stderr",
     "output_type": "stream",
     "text": [
      "UserWarning: Non-stationary starting autoregressive parameters found. Using zeros as starting parameters.\n",
      "\n",
      "UserWarning: Non-invertible starting MA parameters found. Using zeros as starting parameters.\n",
      "\n",
      "ConvergenceWarning: Maximum Likelihood optimization failed to converge. Check mle_retvals\n",
      "\n"
     ]
    },
    {
     "name": "stdout",
     "output_type": "stream",
     "text": [
      " 33%|███▎      | 1/3 [00:03<00:06,  3.44s/trial, best loss: 39.32659916529277]"
     ]
    },
    {
     "name": "stderr",
     "output_type": "stream",
     "text": [
      "UserWarning: Non-stationary starting autoregressive parameters found. Using zeros as starting parameters.\n",
      "\n",
      "UserWarning: Non-invertible starting MA parameters found. Using zeros as starting parameters.\n",
      "\n",
      "ConvergenceWarning: Maximum Likelihood optimization failed to converge. Check mle_retvals\n",
      "\n"
     ]
    },
    {
     "name": "stdout",
     "output_type": "stream",
     "text": [
      "100%|██████████| 3/3 [00:09<00:00,  3.20s/trial, best loss: 28.49446791801065]\n",
      "{'D': 0, 'P': 1, 'Q': 2, 'd': 2, 'p': 1, 'q': 2, 'seasonal_order': 3}\n",
      "Training .......\n",
      " model_WI_1_FOODS_1 \n",
      "100%|██████████| 3/3 [00:08<00:00,  2.79s/trial, best loss: 61.58225524946826]\n",
      "{'D': 1, 'P': 1, 'Q': 2, 'd': 1, 'p': 1, 'q': 2, 'seasonal_order': 6}\n",
      "Training .......\n",
      " model_WI_1_FOODS_2 \n",
      "  0%|          | 0/3 [00:00<?, ?trial/s, best loss=?]"
     ]
    },
    {
     "name": "stderr",
     "output_type": "stream",
     "text": [
      "UserWarning: Non-invertible starting MA parameters found. Using zeros as starting parameters.\n",
      "\n"
     ]
    },
    {
     "name": "stdout",
     "output_type": "stream",
     "text": [
      " 67%|██████▋   | 2/3 [00:08<00:03,  3.80s/trial, best loss: 124.76520327745239]"
     ]
    },
    {
     "name": "stderr",
     "output_type": "stream",
     "text": [
      "UserWarning: Non-stationary starting autoregressive parameters found. Using zeros as starting parameters.\n",
      "\n",
      "UserWarning: Non-invertible starting MA parameters found. Using zeros as starting parameters.\n",
      "\n"
     ]
    },
    {
     "name": "stdout",
     "output_type": "stream",
     "text": [
      "100%|██████████| 3/3 [00:10<00:00,  3.37s/trial, best loss: 124.76520327745239]\n",
      "{'D': 1, 'P': 0, 'Q': 1, 'd': 1, 'p': 2, 'q': 0, 'seasonal_order': 3}\n",
      "Training .......\n",
      " model_WI_1_FOODS_3 \n",
      "  0%|          | 0/3 [00:00<?, ?trial/s, best loss=?]"
     ]
    },
    {
     "name": "stderr",
     "output_type": "stream",
     "text": [
      "ConvergenceWarning: Maximum Likelihood optimization failed to converge. Check mle_retvals\n",
      "\n"
     ]
    },
    {
     "name": "stdout",
     "output_type": "stream",
     "text": [
      " 33%|███▎      | 1/3 [00:03<00:06,  3.47s/trial, best loss: 5665.752104751527]"
     ]
    },
    {
     "name": "stderr",
     "output_type": "stream",
     "text": [
      "UserWarning: Non-stationary starting autoregressive parameters found. Using zeros as starting parameters.\n",
      "\n",
      "UserWarning: Non-invertible starting MA parameters found. Using zeros as starting parameters.\n",
      "\n",
      "ConvergenceWarning: Maximum Likelihood optimization failed to converge. Check mle_retvals\n",
      "\n"
     ]
    },
    {
     "name": "stdout",
     "output_type": "stream",
     "text": [
      "100%|██████████| 3/3 [00:09<00:00,  3.00s/trial, best loss: 301.1696918561518]\n",
      "{'D': 0, 'P': 1, 'Q': 2, 'd': 0, 'p': 2, 'q': 2, 'seasonal_order': 6}\n",
      "Training .......\n",
      " model_WI_1_HOBBIES_1 \n",
      "100%|██████████| 3/3 [00:21<00:00,  7.29s/trial, best loss: 93.5019579315736]  \n",
      "{'D': 1, 'P': 0, 'Q': 2, 'd': 0, 'p': 1, 'q': 1, 'seasonal_order': 4}\n",
      "Training .......\n",
      " model_WI_1_HOBBIES_2 \n",
      " 33%|███▎      | 1/3 [00:00<00:01,  1.20trial/s, best loss: 36.633677582351325]"
     ]
    },
    {
     "name": "stderr",
     "output_type": "stream",
     "text": [
      "UserWarning: Non-invertible starting seasonal moving average Using zeros as starting parameters.\n",
      "\n",
      "job exception: LU decomposition error.\n",
      "\n"
     ]
    },
    {
     "name": "stdout",
     "output_type": "stream",
     "text": [
      " 33%|███▎      | 1/3 [00:20<00:40, 20.21s/trial, best loss: 36.633677582351325]\n"
     ]
    },
    {
     "ename": "LinAlgError",
     "evalue": "LU decomposition error.",
     "output_type": "error",
     "traceback": [
      "\u001b[1;31m---------------------------------------------------------------------------\u001b[0m",
      "\u001b[1;31mLinAlgError\u001b[0m                               Traceback (most recent call last)",
      "\u001b[1;32mc:\\Users\\abdul.qadeer\\Desktop\\M5-Forecasting-v.2\\sarimax_driver.ipynb Cell 11\u001b[0m in \u001b[0;36m<cell line: 5>\u001b[1;34m()\u001b[0m\n\u001b[0;32m     <a href='vscode-notebook-cell:/c%3A/Users/abdul.qadeer/Desktop/M5-Forecasting-v.2/sarimax_driver.ipynb#X33sZmlsZQ%3D%3D?line=33'>34</a>\u001b[0m trials \u001b[39m=\u001b[39m Trials()\n\u001b[0;32m     <a href='vscode-notebook-cell:/c%3A/Users/abdul.qadeer/Desktop/M5-Forecasting-v.2/sarimax_driver.ipynb#X33sZmlsZQ%3D%3D?line=34'>35</a>\u001b[0m \u001b[39m# optimize hyperparameters using Hyperopt's Tree-structured Parzen Estimator (TPE) algorithm\u001b[39;00m\n\u001b[1;32m---> <a href='vscode-notebook-cell:/c%3A/Users/abdul.qadeer/Desktop/M5-Forecasting-v.2/sarimax_driver.ipynb#X33sZmlsZQ%3D%3D?line=35'>36</a>\u001b[0m best[\u001b[39m\"\u001b[39m\u001b[39mbest_param_\u001b[39m\u001b[39m{0}\u001b[39;00m\u001b[39m\"\u001b[39m\u001b[39m.\u001b[39mformat(i)] \u001b[39m=\u001b[39m fmin(fn\u001b[39m=\u001b[39;49mobjective,space\u001b[39m=\u001b[39;49mspace,algo\u001b[39m=\u001b[39;49mtpe\u001b[39m.\u001b[39;49msuggest,max_evals\u001b[39m=\u001b[39;49m\u001b[39m3\u001b[39;49m,trials\u001b[39m=\u001b[39;49mtrials)\n\u001b[0;32m     <a href='vscode-notebook-cell:/c%3A/Users/abdul.qadeer/Desktop/M5-Forecasting-v.2/sarimax_driver.ipynb#X33sZmlsZQ%3D%3D?line=37'>38</a>\u001b[0m \u001b[39mprint\u001b[39m(best[\u001b[39m\"\u001b[39m\u001b[39mbest_param_\u001b[39m\u001b[39m{0}\u001b[39;00m\u001b[39m\"\u001b[39m\u001b[39m.\u001b[39mformat(i)])\n",
      "File \u001b[1;32mc:\\Users\\abdul.qadeer\\Anaconda3\\lib\\site-packages\\hyperopt\\fmin.py:540\u001b[0m, in \u001b[0;36mfmin\u001b[1;34m(fn, space, algo, max_evals, timeout, loss_threshold, trials, rstate, allow_trials_fmin, pass_expr_memo_ctrl, catch_eval_exceptions, verbose, return_argmin, points_to_evaluate, max_queue_len, show_progressbar, early_stop_fn, trials_save_file)\u001b[0m\n\u001b[0;32m    537\u001b[0m     fn \u001b[39m=\u001b[39m __objective_fmin_wrapper(fn)\n\u001b[0;32m    539\u001b[0m \u001b[39mif\u001b[39;00m allow_trials_fmin \u001b[39mand\u001b[39;00m \u001b[39mhasattr\u001b[39m(trials, \u001b[39m\"\u001b[39m\u001b[39mfmin\u001b[39m\u001b[39m\"\u001b[39m):\n\u001b[1;32m--> 540\u001b[0m     \u001b[39mreturn\u001b[39;00m trials\u001b[39m.\u001b[39;49mfmin(\n\u001b[0;32m    541\u001b[0m         fn,\n\u001b[0;32m    542\u001b[0m         space,\n\u001b[0;32m    543\u001b[0m         algo\u001b[39m=\u001b[39;49malgo,\n\u001b[0;32m    544\u001b[0m         max_evals\u001b[39m=\u001b[39;49mmax_evals,\n\u001b[0;32m    545\u001b[0m         timeout\u001b[39m=\u001b[39;49mtimeout,\n\u001b[0;32m    546\u001b[0m         loss_threshold\u001b[39m=\u001b[39;49mloss_threshold,\n\u001b[0;32m    547\u001b[0m         max_queue_len\u001b[39m=\u001b[39;49mmax_queue_len,\n\u001b[0;32m    548\u001b[0m         rstate\u001b[39m=\u001b[39;49mrstate,\n\u001b[0;32m    549\u001b[0m         pass_expr_memo_ctrl\u001b[39m=\u001b[39;49mpass_expr_memo_ctrl,\n\u001b[0;32m    550\u001b[0m         verbose\u001b[39m=\u001b[39;49mverbose,\n\u001b[0;32m    551\u001b[0m         catch_eval_exceptions\u001b[39m=\u001b[39;49mcatch_eval_exceptions,\n\u001b[0;32m    552\u001b[0m         return_argmin\u001b[39m=\u001b[39;49mreturn_argmin,\n\u001b[0;32m    553\u001b[0m         show_progressbar\u001b[39m=\u001b[39;49mshow_progressbar,\n\u001b[0;32m    554\u001b[0m         early_stop_fn\u001b[39m=\u001b[39;49mearly_stop_fn,\n\u001b[0;32m    555\u001b[0m         trials_save_file\u001b[39m=\u001b[39;49mtrials_save_file,\n\u001b[0;32m    556\u001b[0m     )\n\u001b[0;32m    558\u001b[0m \u001b[39mif\u001b[39;00m trials \u001b[39mis\u001b[39;00m \u001b[39mNone\u001b[39;00m:\n\u001b[0;32m    559\u001b[0m     \u001b[39mif\u001b[39;00m os\u001b[39m.\u001b[39mpath\u001b[39m.\u001b[39mexists(trials_save_file):\n",
      "File \u001b[1;32mc:\\Users\\abdul.qadeer\\Anaconda3\\lib\\site-packages\\hyperopt\\base.py:671\u001b[0m, in \u001b[0;36mTrials.fmin\u001b[1;34m(self, fn, space, algo, max_evals, timeout, loss_threshold, max_queue_len, rstate, verbose, pass_expr_memo_ctrl, catch_eval_exceptions, return_argmin, show_progressbar, early_stop_fn, trials_save_file)\u001b[0m\n\u001b[0;32m    666\u001b[0m \u001b[39m# -- Stop-gap implementation!\u001b[39;00m\n\u001b[0;32m    667\u001b[0m \u001b[39m#    fmin should have been a Trials method in the first place\u001b[39;00m\n\u001b[0;32m    668\u001b[0m \u001b[39m#    but for now it's still sitting in another file.\u001b[39;00m\n\u001b[0;32m    669\u001b[0m \u001b[39mfrom\u001b[39;00m \u001b[39m.\u001b[39;00m\u001b[39mfmin\u001b[39;00m \u001b[39mimport\u001b[39;00m fmin\n\u001b[1;32m--> 671\u001b[0m \u001b[39mreturn\u001b[39;00m fmin(\n\u001b[0;32m    672\u001b[0m     fn,\n\u001b[0;32m    673\u001b[0m     space,\n\u001b[0;32m    674\u001b[0m     algo\u001b[39m=\u001b[39;49malgo,\n\u001b[0;32m    675\u001b[0m     max_evals\u001b[39m=\u001b[39;49mmax_evals,\n\u001b[0;32m    676\u001b[0m     timeout\u001b[39m=\u001b[39;49mtimeout,\n\u001b[0;32m    677\u001b[0m     loss_threshold\u001b[39m=\u001b[39;49mloss_threshold,\n\u001b[0;32m    678\u001b[0m     trials\u001b[39m=\u001b[39;49m\u001b[39mself\u001b[39;49m,\n\u001b[0;32m    679\u001b[0m     rstate\u001b[39m=\u001b[39;49mrstate,\n\u001b[0;32m    680\u001b[0m     verbose\u001b[39m=\u001b[39;49mverbose,\n\u001b[0;32m    681\u001b[0m     max_queue_len\u001b[39m=\u001b[39;49mmax_queue_len,\n\u001b[0;32m    682\u001b[0m     allow_trials_fmin\u001b[39m=\u001b[39;49m\u001b[39mFalse\u001b[39;49;00m,  \u001b[39m# -- prevent recursion\u001b[39;49;00m\n\u001b[0;32m    683\u001b[0m     pass_expr_memo_ctrl\u001b[39m=\u001b[39;49mpass_expr_memo_ctrl,\n\u001b[0;32m    684\u001b[0m     catch_eval_exceptions\u001b[39m=\u001b[39;49mcatch_eval_exceptions,\n\u001b[0;32m    685\u001b[0m     return_argmin\u001b[39m=\u001b[39;49mreturn_argmin,\n\u001b[0;32m    686\u001b[0m     show_progressbar\u001b[39m=\u001b[39;49mshow_progressbar,\n\u001b[0;32m    687\u001b[0m     early_stop_fn\u001b[39m=\u001b[39;49mearly_stop_fn,\n\u001b[0;32m    688\u001b[0m     trials_save_file\u001b[39m=\u001b[39;49mtrials_save_file,\n\u001b[0;32m    689\u001b[0m )\n",
      "File \u001b[1;32mc:\\Users\\abdul.qadeer\\Anaconda3\\lib\\site-packages\\hyperopt\\fmin.py:586\u001b[0m, in \u001b[0;36mfmin\u001b[1;34m(fn, space, algo, max_evals, timeout, loss_threshold, trials, rstate, allow_trials_fmin, pass_expr_memo_ctrl, catch_eval_exceptions, verbose, return_argmin, points_to_evaluate, max_queue_len, show_progressbar, early_stop_fn, trials_save_file)\u001b[0m\n\u001b[0;32m    583\u001b[0m rval\u001b[39m.\u001b[39mcatch_eval_exceptions \u001b[39m=\u001b[39m catch_eval_exceptions\n\u001b[0;32m    585\u001b[0m \u001b[39m# next line is where the fmin is actually executed\u001b[39;00m\n\u001b[1;32m--> 586\u001b[0m rval\u001b[39m.\u001b[39;49mexhaust()\n\u001b[0;32m    588\u001b[0m \u001b[39mif\u001b[39;00m return_argmin:\n\u001b[0;32m    589\u001b[0m     \u001b[39mif\u001b[39;00m \u001b[39mlen\u001b[39m(trials\u001b[39m.\u001b[39mtrials) \u001b[39m==\u001b[39m \u001b[39m0\u001b[39m:\n",
      "File \u001b[1;32mc:\\Users\\abdul.qadeer\\Anaconda3\\lib\\site-packages\\hyperopt\\fmin.py:364\u001b[0m, in \u001b[0;36mFMinIter.exhaust\u001b[1;34m(self)\u001b[0m\n\u001b[0;32m    362\u001b[0m \u001b[39mdef\u001b[39;00m \u001b[39mexhaust\u001b[39m(\u001b[39mself\u001b[39m):\n\u001b[0;32m    363\u001b[0m     n_done \u001b[39m=\u001b[39m \u001b[39mlen\u001b[39m(\u001b[39mself\u001b[39m\u001b[39m.\u001b[39mtrials)\n\u001b[1;32m--> 364\u001b[0m     \u001b[39mself\u001b[39;49m\u001b[39m.\u001b[39;49mrun(\u001b[39mself\u001b[39;49m\u001b[39m.\u001b[39;49mmax_evals \u001b[39m-\u001b[39;49m n_done, block_until_done\u001b[39m=\u001b[39;49m\u001b[39mself\u001b[39;49m\u001b[39m.\u001b[39;49masynchronous)\n\u001b[0;32m    365\u001b[0m     \u001b[39mself\u001b[39m\u001b[39m.\u001b[39mtrials\u001b[39m.\u001b[39mrefresh()\n\u001b[0;32m    366\u001b[0m     \u001b[39mreturn\u001b[39;00m \u001b[39mself\u001b[39m\n",
      "File \u001b[1;32mc:\\Users\\abdul.qadeer\\Anaconda3\\lib\\site-packages\\hyperopt\\fmin.py:300\u001b[0m, in \u001b[0;36mFMinIter.run\u001b[1;34m(self, N, block_until_done)\u001b[0m\n\u001b[0;32m    297\u001b[0m     time\u001b[39m.\u001b[39msleep(\u001b[39mself\u001b[39m\u001b[39m.\u001b[39mpoll_interval_secs)\n\u001b[0;32m    298\u001b[0m \u001b[39melse\u001b[39;00m:\n\u001b[0;32m    299\u001b[0m     \u001b[39m# -- loop over trials and do the jobs directly\u001b[39;00m\n\u001b[1;32m--> 300\u001b[0m     \u001b[39mself\u001b[39;49m\u001b[39m.\u001b[39;49mserial_evaluate()\n\u001b[0;32m    302\u001b[0m \u001b[39mself\u001b[39m\u001b[39m.\u001b[39mtrials\u001b[39m.\u001b[39mrefresh()\n\u001b[0;32m    303\u001b[0m \u001b[39mif\u001b[39;00m \u001b[39mself\u001b[39m\u001b[39m.\u001b[39mtrials_save_file \u001b[39m!=\u001b[39m \u001b[39m\"\u001b[39m\u001b[39m\"\u001b[39m:\n",
      "File \u001b[1;32mc:\\Users\\abdul.qadeer\\Anaconda3\\lib\\site-packages\\hyperopt\\fmin.py:178\u001b[0m, in \u001b[0;36mFMinIter.serial_evaluate\u001b[1;34m(self, N)\u001b[0m\n\u001b[0;32m    176\u001b[0m ctrl \u001b[39m=\u001b[39m base\u001b[39m.\u001b[39mCtrl(\u001b[39mself\u001b[39m\u001b[39m.\u001b[39mtrials, current_trial\u001b[39m=\u001b[39mtrial)\n\u001b[0;32m    177\u001b[0m \u001b[39mtry\u001b[39;00m:\n\u001b[1;32m--> 178\u001b[0m     result \u001b[39m=\u001b[39m \u001b[39mself\u001b[39;49m\u001b[39m.\u001b[39;49mdomain\u001b[39m.\u001b[39;49mevaluate(spec, ctrl)\n\u001b[0;32m    179\u001b[0m \u001b[39mexcept\u001b[39;00m \u001b[39mException\u001b[39;00m \u001b[39mas\u001b[39;00m e:\n\u001b[0;32m    180\u001b[0m     logger\u001b[39m.\u001b[39merror(\u001b[39m\"\u001b[39m\u001b[39mjob exception: \u001b[39m\u001b[39m%s\u001b[39;00m\u001b[39m\"\u001b[39m \u001b[39m%\u001b[39m \u001b[39mstr\u001b[39m(e))\n",
      "File \u001b[1;32mc:\\Users\\abdul.qadeer\\Anaconda3\\lib\\site-packages\\hyperopt\\base.py:892\u001b[0m, in \u001b[0;36mDomain.evaluate\u001b[1;34m(self, config, ctrl, attach_attachments)\u001b[0m\n\u001b[0;32m    883\u001b[0m \u001b[39melse\u001b[39;00m:\n\u001b[0;32m    884\u001b[0m     \u001b[39m# -- the \"work\" of evaluating `config` can be written\u001b[39;00m\n\u001b[0;32m    885\u001b[0m     \u001b[39m#    either into the pyll part (self.expr)\u001b[39;00m\n\u001b[0;32m    886\u001b[0m     \u001b[39m#    or the normal Python part (self.fn)\u001b[39;00m\n\u001b[0;32m    887\u001b[0m     pyll_rval \u001b[39m=\u001b[39m pyll\u001b[39m.\u001b[39mrec_eval(\n\u001b[0;32m    888\u001b[0m         \u001b[39mself\u001b[39m\u001b[39m.\u001b[39mexpr,\n\u001b[0;32m    889\u001b[0m         memo\u001b[39m=\u001b[39mmemo,\n\u001b[0;32m    890\u001b[0m         print_node_on_error\u001b[39m=\u001b[39m\u001b[39mself\u001b[39m\u001b[39m.\u001b[39mrec_eval_print_node_on_error,\n\u001b[0;32m    891\u001b[0m     )\n\u001b[1;32m--> 892\u001b[0m     rval \u001b[39m=\u001b[39m \u001b[39mself\u001b[39;49m\u001b[39m.\u001b[39;49mfn(pyll_rval)\n\u001b[0;32m    894\u001b[0m \u001b[39mif\u001b[39;00m \u001b[39misinstance\u001b[39m(rval, (\u001b[39mfloat\u001b[39m, \u001b[39mint\u001b[39m, np\u001b[39m.\u001b[39mnumber)):\n\u001b[0;32m    895\u001b[0m     dict_rval \u001b[39m=\u001b[39m {\u001b[39m\"\u001b[39m\u001b[39mloss\u001b[39m\u001b[39m\"\u001b[39m: \u001b[39mfloat\u001b[39m(rval), \u001b[39m\"\u001b[39m\u001b[39mstatus\u001b[39m\u001b[39m\"\u001b[39m: STATUS_OK}\n",
      "\u001b[1;32mc:\\Users\\abdul.qadeer\\Desktop\\M5-Forecasting-v.2\\sarimax_driver.ipynb Cell 11\u001b[0m in \u001b[0;36mobjective\u001b[1;34m(params)\u001b[0m\n\u001b[0;32m     <a href='vscode-notebook-cell:/c%3A/Users/abdul.qadeer/Desktop/M5-Forecasting-v.2/sarimax_driver.ipynb#X33sZmlsZQ%3D%3D?line=10'>11</a>\u001b[0m \u001b[39mdef\u001b[39;00m \u001b[39mobjective\u001b[39m( params):\n\u001b[0;32m     <a href='vscode-notebook-cell:/c%3A/Users/abdul.qadeer/Desktop/M5-Forecasting-v.2/sarimax_driver.ipynb#X33sZmlsZQ%3D%3D?line=11'>12</a>\u001b[0m     \u001b[39m# order = (params['p'], params['d'], params['q'])\u001b[39;00m\n\u001b[0;32m     <a href='vscode-notebook-cell:/c%3A/Users/abdul.qadeer/Desktop/M5-Forecasting-v.2/sarimax_driver.ipynb#X33sZmlsZQ%3D%3D?line=12'>13</a>\u001b[0m     \u001b[39m# seasonal_order = (params['P'], params['D'], params['Q'], params['m'])\u001b[39;00m\n\u001b[1;32m   (...)\u001b[0m\n\u001b[0;32m     <a href='vscode-notebook-cell:/c%3A/Users/abdul.qadeer/Desktop/M5-Forecasting-v.2/sarimax_driver.ipynb#X33sZmlsZQ%3D%3D?line=21'>22</a>\u001b[0m     \u001b[39m# error = mean_absolute_error(y_test_data_[i], y_pred)\u001b[39;00m\n\u001b[0;32m     <a href='vscode-notebook-cell:/c%3A/Users/abdul.qadeer/Desktop/M5-Forecasting-v.2/sarimax_driver.ipynb#X33sZmlsZQ%3D%3D?line=22'>23</a>\u001b[0m     \u001b[39m# return error\u001b[39;00m\n\u001b[0;32m     <a href='vscode-notebook-cell:/c%3A/Users/abdul.qadeer/Desktop/M5-Forecasting-v.2/sarimax_driver.ipynb#X33sZmlsZQ%3D%3D?line=24'>25</a>\u001b[0m     sarimax_model \u001b[39m=\u001b[39m sm\u001b[39m.\u001b[39mtsa\u001b[39m.\u001b[39mstatespace\u001b[39m.\u001b[39mSARIMAX(endog\u001b[39m=\u001b[39my_train_data_[i], order\u001b[39m=\u001b[39m(params[\u001b[39m'\u001b[39m\u001b[39mp\u001b[39m\u001b[39m'\u001b[39m], params[\u001b[39m'\u001b[39m\u001b[39md\u001b[39m\u001b[39m'\u001b[39m], params[\u001b[39m'\u001b[39m\u001b[39mq\u001b[39m\u001b[39m'\u001b[39m]), seasonal_order\u001b[39m=\u001b[39m(params[\u001b[39m'\u001b[39m\u001b[39mP\u001b[39m\u001b[39m'\u001b[39m], params[\u001b[39m'\u001b[39m\u001b[39mD\u001b[39m\u001b[39m'\u001b[39m], params[\u001b[39m'\u001b[39m\u001b[39mQ\u001b[39m\u001b[39m'\u001b[39m], \u001b[39m12\u001b[39m))\n\u001b[1;32m---> <a href='vscode-notebook-cell:/c%3A/Users/abdul.qadeer/Desktop/M5-Forecasting-v.2/sarimax_driver.ipynb#X33sZmlsZQ%3D%3D?line=25'>26</a>\u001b[0m     sarimax_result \u001b[39m=\u001b[39m sarimax_model\u001b[39m.\u001b[39;49mfit()\n\u001b[0;32m     <a href='vscode-notebook-cell:/c%3A/Users/abdul.qadeer/Desktop/M5-Forecasting-v.2/sarimax_driver.ipynb#X33sZmlsZQ%3D%3D?line=26'>27</a>\u001b[0m     y_pred \u001b[39m=\u001b[39m sarimax_result\u001b[39m.\u001b[39mforecast(steps\u001b[39m=\u001b[39my_test_data_\u001b[39m.\u001b[39mshape[\u001b[39m0\u001b[39m])\n\u001b[0;32m     <a href='vscode-notebook-cell:/c%3A/Users/abdul.qadeer/Desktop/M5-Forecasting-v.2/sarimax_driver.ipynb#X33sZmlsZQ%3D%3D?line=27'>28</a>\u001b[0m     mse \u001b[39m=\u001b[39m mean_absolute_error(y_test_data_, y_pred)\n",
      "File \u001b[1;32mc:\\Users\\abdul.qadeer\\Anaconda3\\lib\\site-packages\\statsmodels\\tsa\\statespace\\mlemodel.py:704\u001b[0m, in \u001b[0;36mMLEModel.fit\u001b[1;34m(self, start_params, transformed, includes_fixed, cov_type, cov_kwds, method, maxiter, full_output, disp, callback, return_params, optim_score, optim_complex_step, optim_hessian, flags, low_memory, **kwargs)\u001b[0m\n\u001b[0;32m    702\u001b[0m         flags[\u001b[39m'\u001b[39m\u001b[39mhessian_method\u001b[39m\u001b[39m'\u001b[39m] \u001b[39m=\u001b[39m optim_hessian\n\u001b[0;32m    703\u001b[0m     fargs \u001b[39m=\u001b[39m (flags,)\n\u001b[1;32m--> 704\u001b[0m     mlefit \u001b[39m=\u001b[39m \u001b[39msuper\u001b[39m(MLEModel, \u001b[39mself\u001b[39m)\u001b[39m.\u001b[39mfit(start_params, method\u001b[39m=\u001b[39mmethod,\n\u001b[0;32m    705\u001b[0m                                        fargs\u001b[39m=\u001b[39mfargs,\n\u001b[0;32m    706\u001b[0m                                        maxiter\u001b[39m=\u001b[39mmaxiter,\n\u001b[0;32m    707\u001b[0m                                        full_output\u001b[39m=\u001b[39mfull_output,\n\u001b[0;32m    708\u001b[0m                                        disp\u001b[39m=\u001b[39mdisp, callback\u001b[39m=\u001b[39mcallback,\n\u001b[0;32m    709\u001b[0m                                        skip_hessian\u001b[39m=\u001b[39m\u001b[39mTrue\u001b[39;00m, \u001b[39m*\u001b[39m\u001b[39m*\u001b[39mkwargs)\n\u001b[0;32m    711\u001b[0m \u001b[39m# Just return the fitted parameters if requested\u001b[39;00m\n\u001b[0;32m    712\u001b[0m \u001b[39mif\u001b[39;00m return_params:\n",
      "File \u001b[1;32mc:\\Users\\abdul.qadeer\\Anaconda3\\lib\\site-packages\\statsmodels\\base\\model.py:563\u001b[0m, in \u001b[0;36mLikelihoodModel.fit\u001b[1;34m(self, start_params, method, maxiter, full_output, disp, fargs, callback, retall, skip_hessian, **kwargs)\u001b[0m\n\u001b[0;32m    560\u001b[0m     \u001b[39mdel\u001b[39;00m kwargs[\u001b[39m\"\u001b[39m\u001b[39muse_t\u001b[39m\u001b[39m\"\u001b[39m]\n\u001b[0;32m    562\u001b[0m optimizer \u001b[39m=\u001b[39m Optimizer()\n\u001b[1;32m--> 563\u001b[0m xopt, retvals, optim_settings \u001b[39m=\u001b[39m optimizer\u001b[39m.\u001b[39;49m_fit(f, score, start_params,\n\u001b[0;32m    564\u001b[0m                                                fargs, kwargs,\n\u001b[0;32m    565\u001b[0m                                                hessian\u001b[39m=\u001b[39;49mhess,\n\u001b[0;32m    566\u001b[0m                                                method\u001b[39m=\u001b[39;49mmethod,\n\u001b[0;32m    567\u001b[0m                                                disp\u001b[39m=\u001b[39;49mdisp,\n\u001b[0;32m    568\u001b[0m                                                maxiter\u001b[39m=\u001b[39;49mmaxiter,\n\u001b[0;32m    569\u001b[0m                                                callback\u001b[39m=\u001b[39;49mcallback,\n\u001b[0;32m    570\u001b[0m                                                retall\u001b[39m=\u001b[39;49mretall,\n\u001b[0;32m    571\u001b[0m                                                full_output\u001b[39m=\u001b[39;49mfull_output)\n\u001b[0;32m    572\u001b[0m \u001b[39m# Restore cov_type, cov_kwds and use_t\u001b[39;00m\n\u001b[0;32m    573\u001b[0m optim_settings\u001b[39m.\u001b[39mupdate(kwds)\n",
      "File \u001b[1;32mc:\\Users\\abdul.qadeer\\Anaconda3\\lib\\site-packages\\statsmodels\\base\\optimizer.py:241\u001b[0m, in \u001b[0;36mOptimizer._fit\u001b[1;34m(self, objective, gradient, start_params, fargs, kwargs, hessian, method, maxiter, full_output, disp, callback, retall)\u001b[0m\n\u001b[0;32m    238\u001b[0m     fit_funcs\u001b[39m.\u001b[39mupdate(extra_fit_funcs)\n\u001b[0;32m    240\u001b[0m func \u001b[39m=\u001b[39m fit_funcs[method]\n\u001b[1;32m--> 241\u001b[0m xopt, retvals \u001b[39m=\u001b[39m func(objective, gradient, start_params, fargs, kwargs,\n\u001b[0;32m    242\u001b[0m                      disp\u001b[39m=\u001b[39;49mdisp, maxiter\u001b[39m=\u001b[39;49mmaxiter, callback\u001b[39m=\u001b[39;49mcallback,\n\u001b[0;32m    243\u001b[0m                      retall\u001b[39m=\u001b[39;49mretall, full_output\u001b[39m=\u001b[39;49mfull_output,\n\u001b[0;32m    244\u001b[0m                      hess\u001b[39m=\u001b[39;49mhessian)\n\u001b[0;32m    246\u001b[0m optim_settings \u001b[39m=\u001b[39m {\u001b[39m'\u001b[39m\u001b[39moptimizer\u001b[39m\u001b[39m'\u001b[39m: method, \u001b[39m'\u001b[39m\u001b[39mstart_params\u001b[39m\u001b[39m'\u001b[39m: start_params,\n\u001b[0;32m    247\u001b[0m                   \u001b[39m'\u001b[39m\u001b[39mmaxiter\u001b[39m\u001b[39m'\u001b[39m: maxiter, \u001b[39m'\u001b[39m\u001b[39mfull_output\u001b[39m\u001b[39m'\u001b[39m: full_output,\n\u001b[0;32m    248\u001b[0m                   \u001b[39m'\u001b[39m\u001b[39mdisp\u001b[39m\u001b[39m'\u001b[39m: disp, \u001b[39m'\u001b[39m\u001b[39mfargs\u001b[39m\u001b[39m'\u001b[39m: fargs, \u001b[39m'\u001b[39m\u001b[39mcallback\u001b[39m\u001b[39m'\u001b[39m: callback,\n\u001b[0;32m    249\u001b[0m                   \u001b[39m'\u001b[39m\u001b[39mretall\u001b[39m\u001b[39m'\u001b[39m: retall, \u001b[39m\"\u001b[39m\u001b[39mextra_fit_funcs\u001b[39m\u001b[39m\"\u001b[39m: extra_fit_funcs}\n\u001b[0;32m    250\u001b[0m optim_settings\u001b[39m.\u001b[39mupdate(kwargs)\n",
      "File \u001b[1;32mc:\\Users\\abdul.qadeer\\Anaconda3\\lib\\site-packages\\statsmodels\\base\\optimizer.py:651\u001b[0m, in \u001b[0;36m_fit_lbfgs\u001b[1;34m(f, score, start_params, fargs, kwargs, disp, maxiter, callback, retall, full_output, hess)\u001b[0m\n\u001b[0;32m    648\u001b[0m \u001b[39melif\u001b[39;00m approx_grad:\n\u001b[0;32m    649\u001b[0m     func \u001b[39m=\u001b[39m f\n\u001b[1;32m--> 651\u001b[0m retvals \u001b[39m=\u001b[39m optimize\u001b[39m.\u001b[39mfmin_l_bfgs_b(func, start_params, maxiter\u001b[39m=\u001b[39mmaxiter,\n\u001b[0;32m    652\u001b[0m                                  callback\u001b[39m=\u001b[39mcallback, args\u001b[39m=\u001b[39mfargs,\n\u001b[0;32m    653\u001b[0m                                  bounds\u001b[39m=\u001b[39mbounds, disp\u001b[39m=\u001b[39mdisp,\n\u001b[0;32m    654\u001b[0m                                  \u001b[39m*\u001b[39m\u001b[39m*\u001b[39mextra_kwargs)\n\u001b[0;32m    656\u001b[0m \u001b[39mif\u001b[39;00m full_output:\n\u001b[0;32m    657\u001b[0m     xopt, fopt, d \u001b[39m=\u001b[39m retvals\n",
      "File \u001b[1;32mc:\\Users\\abdul.qadeer\\Anaconda3\\lib\\site-packages\\scipy\\optimize\\lbfgsb.py:197\u001b[0m, in \u001b[0;36mfmin_l_bfgs_b\u001b[1;34m(func, x0, fprime, args, approx_grad, bounds, m, factr, pgtol, epsilon, iprint, maxfun, maxiter, disp, callback, maxls)\u001b[0m\n\u001b[0;32m    185\u001b[0m     disp \u001b[39m=\u001b[39m iprint\n\u001b[0;32m    186\u001b[0m opts \u001b[39m=\u001b[39m {\u001b[39m'\u001b[39m\u001b[39mdisp\u001b[39m\u001b[39m'\u001b[39m: disp,\n\u001b[0;32m    187\u001b[0m         \u001b[39m'\u001b[39m\u001b[39miprint\u001b[39m\u001b[39m'\u001b[39m: iprint,\n\u001b[0;32m    188\u001b[0m         \u001b[39m'\u001b[39m\u001b[39mmaxcor\u001b[39m\u001b[39m'\u001b[39m: m,\n\u001b[1;32m   (...)\u001b[0m\n\u001b[0;32m    194\u001b[0m         \u001b[39m'\u001b[39m\u001b[39mcallback\u001b[39m\u001b[39m'\u001b[39m: callback,\n\u001b[0;32m    195\u001b[0m         \u001b[39m'\u001b[39m\u001b[39mmaxls\u001b[39m\u001b[39m'\u001b[39m: maxls}\n\u001b[1;32m--> 197\u001b[0m res \u001b[39m=\u001b[39m _minimize_lbfgsb(fun, x0, args\u001b[39m=\u001b[39margs, jac\u001b[39m=\u001b[39mjac, bounds\u001b[39m=\u001b[39mbounds,\n\u001b[0;32m    198\u001b[0m                        \u001b[39m*\u001b[39m\u001b[39m*\u001b[39mopts)\n\u001b[0;32m    199\u001b[0m d \u001b[39m=\u001b[39m {\u001b[39m'\u001b[39m\u001b[39mgrad\u001b[39m\u001b[39m'\u001b[39m: res[\u001b[39m'\u001b[39m\u001b[39mjac\u001b[39m\u001b[39m'\u001b[39m],\n\u001b[0;32m    200\u001b[0m      \u001b[39m'\u001b[39m\u001b[39mtask\u001b[39m\u001b[39m'\u001b[39m: res[\u001b[39m'\u001b[39m\u001b[39mmessage\u001b[39m\u001b[39m'\u001b[39m],\n\u001b[0;32m    201\u001b[0m      \u001b[39m'\u001b[39m\u001b[39mfuncalls\u001b[39m\u001b[39m'\u001b[39m: res[\u001b[39m'\u001b[39m\u001b[39mnfev\u001b[39m\u001b[39m'\u001b[39m],\n\u001b[0;32m    202\u001b[0m      \u001b[39m'\u001b[39m\u001b[39mnit\u001b[39m\u001b[39m'\u001b[39m: res[\u001b[39m'\u001b[39m\u001b[39mnit\u001b[39m\u001b[39m'\u001b[39m],\n\u001b[0;32m    203\u001b[0m      \u001b[39m'\u001b[39m\u001b[39mwarnflag\u001b[39m\u001b[39m'\u001b[39m: res[\u001b[39m'\u001b[39m\u001b[39mstatus\u001b[39m\u001b[39m'\u001b[39m]}\n\u001b[0;32m    204\u001b[0m f \u001b[39m=\u001b[39m res[\u001b[39m'\u001b[39m\u001b[39mfun\u001b[39m\u001b[39m'\u001b[39m]\n",
      "File \u001b[1;32mc:\\Users\\abdul.qadeer\\Anaconda3\\lib\\site-packages\\scipy\\optimize\\lbfgsb.py:360\u001b[0m, in \u001b[0;36m_minimize_lbfgsb\u001b[1;34m(fun, x0, args, jac, bounds, disp, maxcor, ftol, gtol, eps, maxfun, maxiter, iprint, callback, maxls, finite_diff_rel_step, **unknown_options)\u001b[0m\n\u001b[0;32m    354\u001b[0m task_str \u001b[39m=\u001b[39m task\u001b[39m.\u001b[39mtobytes()\n\u001b[0;32m    355\u001b[0m \u001b[39mif\u001b[39;00m task_str\u001b[39m.\u001b[39mstartswith(\u001b[39mb\u001b[39m\u001b[39m'\u001b[39m\u001b[39mFG\u001b[39m\u001b[39m'\u001b[39m):\n\u001b[0;32m    356\u001b[0m     \u001b[39m# The minimization routine wants f and g at the current x.\u001b[39;00m\n\u001b[0;32m    357\u001b[0m     \u001b[39m# Note that interruptions due to maxfun are postponed\u001b[39;00m\n\u001b[0;32m    358\u001b[0m     \u001b[39m# until the completion of the current minimization iteration.\u001b[39;00m\n\u001b[0;32m    359\u001b[0m     \u001b[39m# Overwrite f and g:\u001b[39;00m\n\u001b[1;32m--> 360\u001b[0m     f, g \u001b[39m=\u001b[39m func_and_grad(x)\n\u001b[0;32m    361\u001b[0m \u001b[39melif\u001b[39;00m task_str\u001b[39m.\u001b[39mstartswith(\u001b[39mb\u001b[39m\u001b[39m'\u001b[39m\u001b[39mNEW_X\u001b[39m\u001b[39m'\u001b[39m):\n\u001b[0;32m    362\u001b[0m     \u001b[39m# new iteration\u001b[39;00m\n\u001b[0;32m    363\u001b[0m     n_iterations \u001b[39m+\u001b[39m\u001b[39m=\u001b[39m \u001b[39m1\u001b[39m\n",
      "File \u001b[1;32mc:\\Users\\abdul.qadeer\\Anaconda3\\lib\\site-packages\\scipy\\optimize\\_differentiable_functions.py:267\u001b[0m, in \u001b[0;36mScalarFunction.fun_and_grad\u001b[1;34m(self, x)\u001b[0m\n\u001b[0;32m    265\u001b[0m \u001b[39mif\u001b[39;00m \u001b[39mnot\u001b[39;00m np\u001b[39m.\u001b[39marray_equal(x, \u001b[39mself\u001b[39m\u001b[39m.\u001b[39mx):\n\u001b[0;32m    266\u001b[0m     \u001b[39mself\u001b[39m\u001b[39m.\u001b[39m_update_x_impl(x)\n\u001b[1;32m--> 267\u001b[0m \u001b[39mself\u001b[39;49m\u001b[39m.\u001b[39;49m_update_fun()\n\u001b[0;32m    268\u001b[0m \u001b[39mself\u001b[39m\u001b[39m.\u001b[39m_update_grad()\n\u001b[0;32m    269\u001b[0m \u001b[39mreturn\u001b[39;00m \u001b[39mself\u001b[39m\u001b[39m.\u001b[39mf, \u001b[39mself\u001b[39m\u001b[39m.\u001b[39mg\n",
      "File \u001b[1;32mc:\\Users\\abdul.qadeer\\Anaconda3\\lib\\site-packages\\scipy\\optimize\\_differentiable_functions.py:233\u001b[0m, in \u001b[0;36mScalarFunction._update_fun\u001b[1;34m(self)\u001b[0m\n\u001b[0;32m    231\u001b[0m \u001b[39mdef\u001b[39;00m \u001b[39m_update_fun\u001b[39m(\u001b[39mself\u001b[39m):\n\u001b[0;32m    232\u001b[0m     \u001b[39mif\u001b[39;00m \u001b[39mnot\u001b[39;00m \u001b[39mself\u001b[39m\u001b[39m.\u001b[39mf_updated:\n\u001b[1;32m--> 233\u001b[0m         \u001b[39mself\u001b[39;49m\u001b[39m.\u001b[39;49m_update_fun_impl()\n\u001b[0;32m    234\u001b[0m         \u001b[39mself\u001b[39m\u001b[39m.\u001b[39mf_updated \u001b[39m=\u001b[39m \u001b[39mTrue\u001b[39;00m\n",
      "File \u001b[1;32mc:\\Users\\abdul.qadeer\\Anaconda3\\lib\\site-packages\\scipy\\optimize\\_differentiable_functions.py:137\u001b[0m, in \u001b[0;36mScalarFunction.__init__.<locals>.update_fun\u001b[1;34m()\u001b[0m\n\u001b[0;32m    136\u001b[0m \u001b[39mdef\u001b[39;00m \u001b[39mupdate_fun\u001b[39m():\n\u001b[1;32m--> 137\u001b[0m     \u001b[39mself\u001b[39m\u001b[39m.\u001b[39mf \u001b[39m=\u001b[39m fun_wrapped(\u001b[39mself\u001b[39;49m\u001b[39m.\u001b[39;49mx)\n",
      "File \u001b[1;32mc:\\Users\\abdul.qadeer\\Anaconda3\\lib\\site-packages\\scipy\\optimize\\_differentiable_functions.py:134\u001b[0m, in \u001b[0;36mScalarFunction.__init__.<locals>.fun_wrapped\u001b[1;34m(x)\u001b[0m\n\u001b[0;32m    130\u001b[0m \u001b[39mself\u001b[39m\u001b[39m.\u001b[39mnfev \u001b[39m+\u001b[39m\u001b[39m=\u001b[39m \u001b[39m1\u001b[39m\n\u001b[0;32m    131\u001b[0m \u001b[39m# Send a copy because the user may overwrite it.\u001b[39;00m\n\u001b[0;32m    132\u001b[0m \u001b[39m# Overwriting results in undefined behaviour because\u001b[39;00m\n\u001b[0;32m    133\u001b[0m \u001b[39m# fun(self.x) will change self.x, with the two no longer linked.\u001b[39;00m\n\u001b[1;32m--> 134\u001b[0m \u001b[39mreturn\u001b[39;00m fun(np\u001b[39m.\u001b[39;49mcopy(x), \u001b[39m*\u001b[39;49margs)\n",
      "File \u001b[1;32mc:\\Users\\abdul.qadeer\\Anaconda3\\lib\\site-packages\\statsmodels\\base\\model.py:531\u001b[0m, in \u001b[0;36mLikelihoodModel.fit.<locals>.f\u001b[1;34m(params, *args)\u001b[0m\n\u001b[0;32m    530\u001b[0m \u001b[39mdef\u001b[39;00m \u001b[39mf\u001b[39m(params, \u001b[39m*\u001b[39margs):\n\u001b[1;32m--> 531\u001b[0m     \u001b[39mreturn\u001b[39;00m \u001b[39m-\u001b[39m\u001b[39mself\u001b[39;49m\u001b[39m.\u001b[39;49mloglike(params, \u001b[39m*\u001b[39;49margs) \u001b[39m/\u001b[39m nobs\n",
      "File \u001b[1;32mc:\\Users\\abdul.qadeer\\Anaconda3\\lib\\site-packages\\statsmodels\\tsa\\statespace\\mlemodel.py:939\u001b[0m, in \u001b[0;36mMLEModel.loglike\u001b[1;34m(self, params, *args, **kwargs)\u001b[0m\n\u001b[0;32m    936\u001b[0m \u001b[39mif\u001b[39;00m complex_step:\n\u001b[0;32m    937\u001b[0m     kwargs[\u001b[39m'\u001b[39m\u001b[39minversion_method\u001b[39m\u001b[39m'\u001b[39m] \u001b[39m=\u001b[39m INVERT_UNIVARIATE \u001b[39m|\u001b[39m SOLVE_LU\n\u001b[1;32m--> 939\u001b[0m loglike \u001b[39m=\u001b[39m \u001b[39mself\u001b[39m\u001b[39m.\u001b[39mssm\u001b[39m.\u001b[39mloglike(complex_step\u001b[39m=\u001b[39mcomplex_step, \u001b[39m*\u001b[39m\u001b[39m*\u001b[39mkwargs)\n\u001b[0;32m    941\u001b[0m \u001b[39m# Koopman, Shephard, and Doornik recommend maximizing the average\u001b[39;00m\n\u001b[0;32m    942\u001b[0m \u001b[39m# likelihood to avoid scale issues, but the averaging is done\u001b[39;00m\n\u001b[0;32m    943\u001b[0m \u001b[39m# automatically in the base model `fit` method\u001b[39;00m\n\u001b[0;32m    944\u001b[0m \u001b[39mreturn\u001b[39;00m loglike\n",
      "File \u001b[1;32mc:\\Users\\abdul.qadeer\\Anaconda3\\lib\\site-packages\\statsmodels\\tsa\\statespace\\kalman_filter.py:983\u001b[0m, in \u001b[0;36mKalmanFilter.loglike\u001b[1;34m(self, **kwargs)\u001b[0m\n\u001b[0;32m    967\u001b[0m \u001b[39mr\u001b[39m\u001b[39m\"\"\"\u001b[39;00m\n\u001b[0;32m    968\u001b[0m \u001b[39mCalculate the loglikelihood associated with the statespace model.\u001b[39;00m\n\u001b[0;32m    969\u001b[0m \n\u001b[1;32m   (...)\u001b[0m\n\u001b[0;32m    979\u001b[0m \u001b[39m    The joint loglikelihood.\u001b[39;00m\n\u001b[0;32m    980\u001b[0m \u001b[39m\"\"\"\u001b[39;00m\n\u001b[0;32m    981\u001b[0m kwargs\u001b[39m.\u001b[39msetdefault(\u001b[39m'\u001b[39m\u001b[39mconserve_memory\u001b[39m\u001b[39m'\u001b[39m,\n\u001b[0;32m    982\u001b[0m                   MEMORY_CONSERVE \u001b[39m^\u001b[39m MEMORY_NO_LIKELIHOOD)\n\u001b[1;32m--> 983\u001b[0m kfilter \u001b[39m=\u001b[39m \u001b[39mself\u001b[39m\u001b[39m.\u001b[39m_filter(\u001b[39m*\u001b[39m\u001b[39m*\u001b[39mkwargs)\n\u001b[0;32m    984\u001b[0m loglikelihood_burn \u001b[39m=\u001b[39m kwargs\u001b[39m.\u001b[39mget(\u001b[39m'\u001b[39m\u001b[39mloglikelihood_burn\u001b[39m\u001b[39m'\u001b[39m,\n\u001b[0;32m    985\u001b[0m                                 \u001b[39mself\u001b[39m\u001b[39m.\u001b[39mloglikelihood_burn)\n\u001b[0;32m    986\u001b[0m \u001b[39mif\u001b[39;00m \u001b[39mnot\u001b[39;00m (kwargs[\u001b[39m'\u001b[39m\u001b[39mconserve_memory\u001b[39m\u001b[39m'\u001b[39m] \u001b[39m&\u001b[39m MEMORY_NO_LIKELIHOOD):\n",
      "File \u001b[1;32mc:\\Users\\abdul.qadeer\\Anaconda3\\lib\\site-packages\\statsmodels\\tsa\\statespace\\kalman_filter.py:903\u001b[0m, in \u001b[0;36mKalmanFilter._filter\u001b[1;34m(self, filter_method, inversion_method, stability_method, conserve_memory, filter_timing, tolerance, loglikelihood_burn, complex_step)\u001b[0m\n\u001b[0;32m    900\u001b[0m kfilter \u001b[39m=\u001b[39m \u001b[39mself\u001b[39m\u001b[39m.\u001b[39m_kalman_filters[prefix]\n\u001b[0;32m    902\u001b[0m \u001b[39m# Initialize the state\u001b[39;00m\n\u001b[1;32m--> 903\u001b[0m \u001b[39mself\u001b[39;49m\u001b[39m.\u001b[39;49m_initialize_state(prefix\u001b[39m=\u001b[39;49mprefix, complex_step\u001b[39m=\u001b[39;49mcomplex_step)\n\u001b[0;32m    905\u001b[0m \u001b[39m# Run the filter\u001b[39;00m\n\u001b[0;32m    906\u001b[0m kfilter()\n",
      "File \u001b[1;32mc:\\Users\\abdul.qadeer\\Anaconda3\\lib\\site-packages\\statsmodels\\tsa\\statespace\\representation.py:983\u001b[0m, in \u001b[0;36mRepresentation._initialize_state\u001b[1;34m(self, prefix, complex_step)\u001b[0m\n\u001b[0;32m    981\u001b[0m     \u001b[39mif\u001b[39;00m \u001b[39mnot\u001b[39;00m \u001b[39mself\u001b[39m\u001b[39m.\u001b[39minitialization\u001b[39m.\u001b[39minitialized:\n\u001b[0;32m    982\u001b[0m         \u001b[39mraise\u001b[39;00m \u001b[39mRuntimeError\u001b[39;00m(\u001b[39m'\u001b[39m\u001b[39mInitialization is incomplete.\u001b[39m\u001b[39m'\u001b[39m)\n\u001b[1;32m--> 983\u001b[0m     \u001b[39mself\u001b[39;49m\u001b[39m.\u001b[39;49m_statespaces[prefix]\u001b[39m.\u001b[39;49minitialize(\u001b[39mself\u001b[39;49m\u001b[39m.\u001b[39;49minitialization,\n\u001b[0;32m    984\u001b[0m                                          complex_step\u001b[39m=\u001b[39;49mcomplex_step)\n\u001b[0;32m    985\u001b[0m \u001b[39melse\u001b[39;00m:\n\u001b[0;32m    986\u001b[0m     \u001b[39mraise\u001b[39;00m \u001b[39mRuntimeError\u001b[39;00m(\u001b[39m'\u001b[39m\u001b[39mStatespace model not initialized.\u001b[39m\u001b[39m'\u001b[39m)\n",
      "File \u001b[1;32mstatsmodels\\tsa\\statespace\\_representation.pyx:1373\u001b[0m, in \u001b[0;36mstatsmodels.tsa.statespace._representation.dStatespace.initialize\u001b[1;34m()\u001b[0m\n",
      "File \u001b[1;32mstatsmodels\\tsa\\statespace\\_representation.pyx:1362\u001b[0m, in \u001b[0;36mstatsmodels.tsa.statespace._representation.dStatespace.initialize\u001b[1;34m()\u001b[0m\n",
      "File \u001b[1;32mstatsmodels\\tsa\\statespace\\_initialization.pyx:288\u001b[0m, in \u001b[0;36mstatsmodels.tsa.statespace._initialization.dInitialization.initialize\u001b[1;34m()\u001b[0m\n",
      "File \u001b[1;32mstatsmodels\\tsa\\statespace\\_initialization.pyx:406\u001b[0m, in \u001b[0;36mstatsmodels.tsa.statespace._initialization.dInitialization.initialize_stationary_stationary_cov\u001b[1;34m()\u001b[0m\n",
      "File \u001b[1;32mstatsmodels\\tsa\\statespace\\_tools.pyx:1206\u001b[0m, in \u001b[0;36mstatsmodels.tsa.statespace._tools._dsolve_discrete_lyapunov\u001b[1;34m()\u001b[0m\n",
      "\u001b[1;31mLinAlgError\u001b[0m: LU decomposition error."
     ]
    }
   ],
   "source": [
    "best ={}\n",
    "\n",
    "\n",
    "\n",
    "for i in data.columns:\n",
    "    y_train_data_ = pd.DataFrame()\n",
    "    y_test_data_ = pd.DataFrame()\n",
    "    y_train_data_[i] = y_train_[i].astype('float')\n",
    "    y_test_data_[i] = y_test_[i].astype('float')\n",
    "\n",
    "    def objective( params):\n",
    "        sarimax_model = sm.tsa.statespace.SARIMAX(endog=y_train_data_[i], order=(params['p'], params['d'], params['q']), seasonal_order=(params['P'], params['D'], params['Q'], 12))\n",
    "        sarimax_result = sarimax_model.fit()\n",
    "        y_pred = sarimax_result.forecast(steps=y_test_data_.shape[0])\n",
    "        mse = mean_absolute_error(y_test_data_, y_pred)\n",
    "        return {'loss': mse, 'status': STATUS_OK}\n",
    "\n",
    "    \n",
    "    print(f\"Training .......\\n model_{i} \")\n",
    "\n",
    "    trials = Trials()\n",
    "    # optimize hyperparameters using Hyperopt's Tree-structured Parzen Estimator (TPE) algorithm\n",
    "    best[\"best_param_{0}\".format(i)] = fmin(fn=objective,space=space,algo=tpe.suggest,max_evals=3,trials=trials)\n",
    "\n",
    "    print(best[\"best_param_{0}\".format(i)])"
   ]
  },
  {
   "attachments": {},
   "cell_type": "markdown",
   "metadata": {},
   "source": [
    "### Save Best parameters"
   ]
  },
  {
   "cell_type": "code",
   "execution_count": 44,
   "metadata": {},
   "outputs": [],
   "source": [
    "utils.save_to_json('sarimax_best_params',best,'w')"
   ]
  },
  {
   "attachments": {},
   "cell_type": "markdown",
   "metadata": {},
   "source": [
    "## Training with best parameters Model Training"
   ]
  },
  {
   "attachments": {},
   "cell_type": "markdown",
   "metadata": {},
   "source": [
    "### Reading Best Parameters"
   ]
  },
  {
   "cell_type": "code",
   "execution_count": 5,
   "metadata": {},
   "outputs": [
    {
     "data": {
      "text/plain": [
       "dict_keys(['best_param_CA_1_FOODS_1', 'best_param_CA_1_FOODS_2', 'best_param_CA_1_FOODS_3', 'best_param_CA_1_HOBBIES_1', 'best_param_CA_1_HOBBIES_2', 'best_param_CA_1_HOUSEHOLD_1', 'best_param_CA_1_HOUSEHOLD_2', 'best_param_CA_2_FOODS_1', 'best_param_CA_2_FOODS_2', 'best_param_CA_2_FOODS_3', 'best_param_CA_2_HOBBIES_1', 'best_param_CA_2_HOBBIES_2', 'best_param_CA_2_HOUSEHOLD_1', 'best_param_CA_2_HOUSEHOLD_2', 'best_param_CA_3_FOODS_1', 'best_param_CA_3_FOODS_2', 'best_param_CA_3_FOODS_3', 'best_param_CA_3_HOBBIES_1', 'best_param_CA_3_HOBBIES_2', 'best_param_CA_3_HOUSEHOLD_1', 'best_param_CA_3_HOUSEHOLD_2', 'best_param_CA_4_FOODS_1', 'best_param_CA_4_FOODS_2', 'best_param_CA_4_FOODS_3', 'best_param_CA_4_HOBBIES_1', 'best_param_CA_4_HOBBIES_2', 'best_param_CA_4_HOUSEHOLD_1', 'best_param_CA_4_HOUSEHOLD_2', 'best_param_TX_1_FOODS_1', 'best_param_TX_1_FOODS_2', 'best_param_TX_1_FOODS_3', 'best_param_TX_1_HOBBIES_1', 'best_param_TX_1_HOBBIES_2', 'best_param_TX_1_HOUSEHOLD_1', 'best_param_TX_1_HOUSEHOLD_2', 'best_param_TX_2_FOODS_1', 'best_param_TX_2_FOODS_2', 'best_param_TX_2_FOODS_3', 'best_param_TX_2_HOBBIES_1', 'best_param_TX_2_HOBBIES_2', 'best_param_TX_2_HOUSEHOLD_1', 'best_param_TX_2_HOUSEHOLD_2', 'best_param_TX_3_FOODS_1', 'best_param_TX_3_FOODS_2', 'best_param_TX_3_FOODS_3', 'best_param_TX_3_HOBBIES_1', 'best_param_TX_3_HOBBIES_2', 'best_param_TX_3_HOUSEHOLD_1', 'best_param_TX_3_HOUSEHOLD_2', 'best_param_WI_1_FOODS_1', 'best_param_WI_1_FOODS_2', 'best_param_WI_1_FOODS_3', 'best_param_WI_1_HOBBIES_1'])"
      ]
     },
     "execution_count": 5,
     "metadata": {},
     "output_type": "execute_result"
    }
   ],
   "source": [
    "best =utils.read_from_json('sarimax_best_params',mode=\"r\")\n",
    "best.keys()"
   ]
  },
  {
   "attachments": {},
   "cell_type": "markdown",
   "metadata": {},
   "source": [
    "### Model Training"
   ]
  },
  {
   "cell_type": "code",
   "execution_count": 21,
   "metadata": {},
   "outputs": [
    {
     "name": "stderr",
     "output_type": "stream",
     "text": [
      "UserWarning: Non-invertible starting MA parameters found. Using zeros as starting parameters.\n",
      "UserWarning: Non-invertible starting MA parameters found. Using zeros as starting parameters.\n"
     ]
    }
   ],
   "source": [
    "trained_model={}\n",
    "j=0;\n",
    "for i in data.columns:\n",
    "    if j==3:\n",
    "        break;\n",
    "    j+=1;\n",
    "\n",
    "    y_train_data_ = pd.DataFrame()\n",
    "    y_train_data_[i] = data[i].astype('float')\n",
    "    \n",
    "    order = (best[f\"best_param_{i}\"]['p'], best[f\"best_param_{i}\"]['d'], best[f\"best_param_{i}\"]['q'])\n",
    "    seasonal_order = (best[f\"best_param_{i}\"]['P'], best[f\"best_param_{i}\"]['D'], best[f\"best_param_{i}\"]['Q'], 12)\n",
    "    model = sm.tsa.statespace.SARIMAX(\n",
    "        y_train_data_[i],\n",
    "        order=order,\n",
    "        seasonal_order=seasonal_order\n",
    "    )\n",
    "    print(f\"Traning model_{i} ........\")\n",
    "    trained_model[\"model_{0}\".format(i)] =model.fit()\n",
    "    "
   ]
  },
  {
   "cell_type": "code",
   "execution_count": 14,
   "metadata": {},
   "outputs": [],
   "source": [
    "model = trained_model['model_CA_1_FOODS_1']\n"
   ]
  },
  {
   "cell_type": "code",
   "execution_count": 15,
   "metadata": {},
   "outputs": [
    {
     "data": {
      "image/png": "[encoded data removed]",
      "text/plain": [
       "<Figure size 1440x720 with 4 Axes>"
      ]
     },
     "execution_count": 15,
     "metadata": {},
     "output_type": "execute_result"
    },
    {
     "data": {
      "image/png": "[encoded data removed]",
      "text/plain": [
       "<Figure size 1440x720 with 4 Axes>"
      ]
     },
     "metadata": {
      "needs_background": "light"
     },
     "output_type": "display_data"
    }
   ],
   "source": [
    "model.plot_diagnostics(lags=12,figsize = (20,10),)"
   ]
  },
  {
   "attachments": {},
   "cell_type": "markdown",
   "metadata": {},
   "source": [
    "# Generate forcaste"
   ]
  },
  {
   "cell_type": "code",
   "execution_count": 9,
   "metadata": {},
   "outputs": [],
   "source": [
    "model = trained_model['model_CA_1_FOODS_1']"
   ]
  },
  {
   "cell_type": "code",
   "execution_count": 10,
   "metadata": {},
   "outputs": [
    {
     "data": {
      "text/plain": [
       "574"
      ]
     },
     "execution_count": 10,
     "metadata": {},
     "output_type": "execute_result"
    }
   ],
   "source": [
    "y_test_data_.shape[0]"
   ]
  },
  {
   "cell_type": "code",
   "execution_count": 17,
   "metadata": {},
   "outputs": [
    {
     "data": {
      "text/plain": [
       "2016-04-25    319.641567\n",
       "2016-04-26    311.474405\n",
       "2016-04-27    300.452343\n",
       "2016-04-28    322.650536\n",
       "2016-04-29    327.976807\n",
       "                 ...    \n",
       "2016-07-29    308.768760\n",
       "2016-07-30    308.793797\n",
       "2016-07-31    308.759077\n",
       "2016-08-01    308.776144\n",
       "2016-08-02    308.705811\n",
       "Freq: D, Name: predicted_mean, Length: 100, dtype: float64"
      ]
     },
     "execution_count": 17,
     "metadata": {},
     "output_type": "execute_result"
    }
   ],
   "source": [
    "forecast = model.forecast(steps=100)\n",
    "forecast"
   ]
  },
  {
   "cell_type": "code",
   "execution_count": null,
   "metadata": {},
   "outputs": [],
   "source": []
  }
 ],
 "metadata": {
  "kernelspec": {
   "display_name": "base",
   "language": "python",
   "name": "python3"
  },
  "language_info": {
   "codemirror_mode": {
    "name": "ipython",
    "version": 3
   },
   "file_extension": ".py",
   "mimetype": "text/x-python",
   "name": "python",
   "nbconvert_exporter": "python",
   "pygments_lexer": "ipython3",
   "version": "3.9.12"
  },
  "orig_nbformat": 4
 },
 "nbformat": 4,
 "nbformat_minor": 2
}
